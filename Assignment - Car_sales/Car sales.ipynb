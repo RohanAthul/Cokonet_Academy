{
 "cells": [
  {
   "cell_type": "markdown",
   "id": "06157214-a8d2-4eb5-a01e-36d999172e55",
   "metadata": {},
   "source": [
    "# <center> Assignment 5 | Car Sales"
   ]
  },
  {
   "cell_type": "markdown",
   "id": "958eeacf-468e-4e4f-b816-81dabbfbaec5",
   "metadata": {},
   "source": [
    "#### Loading dependencies"
   ]
  },
  {
   "cell_type": "code",
   "execution_count": null,
   "id": "16e3c4e2-a10a-43e5-b202-fa291819fdb5",
   "metadata": {},
   "outputs": [],
   "source": [
    "import pandas as pd\n",
    "import numpy as np\n",
    "import warnings\n",
    "warnings.filterwarnings(\"ignore\")"
   ]
  },
  {
   "cell_type": "markdown",
   "id": "36d6140d-85ac-48a9-9ecb-ddc256bb2f3e",
   "metadata": {},
   "source": [
    "#### Loading the dataset"
   ]
  },
  {
   "cell_type": "code",
   "execution_count": null,
   "id": "d0fe768e-0afe-4331-adb5-7fcc8b383c54",
   "metadata": {},
   "outputs": [],
   "source": [
    "data = pd.read_csv('./Car_sales.csv')"
   ]
  },
  {
   "cell_type": "markdown",
   "id": "47c22600-851f-4c32-9c4f-54b3703c4766",
   "metadata": {},
   "source": [
    "#### Viewing the dataframe"
   ]
  },
  {
   "cell_type": "code",
   "execution_count": null,
   "id": "598e4003-b23c-4720-b3b6-be7f77c5e573",
   "metadata": {},
   "outputs": [],
   "source": [
    "data.head(10)"
   ]
  },
  {
   "cell_type": "code",
   "execution_count": null,
   "id": "1715878b-abfb-43a8-9eea-fef365a4a0c0",
   "metadata": {},
   "outputs": [],
   "source": [
    "data.tail(10)"
   ]
  },
  {
   "cell_type": "code",
   "execution_count": null,
   "id": "4e61f834-9f4f-4d6e-b830-2e651a587fbd",
   "metadata": {},
   "outputs": [],
   "source": [
    "data.sample(10)"
   ]
  },
  {
   "cell_type": "code",
   "execution_count": null,
   "id": "65dca032-0170-48b1-a951-ceb2a046a1ea",
   "metadata": {},
   "outputs": [],
   "source": [
    "data.info()"
   ]
  },
  {
   "cell_type": "code",
   "execution_count": null,
   "id": "4f925ac7-7a3d-44b8-b33c-374e682525ba",
   "metadata": {},
   "outputs": [],
   "source": [
    "data.describe()"
   ]
  },
  {
   "cell_type": "code",
   "execution_count": null,
   "id": "a5493585-24da-4916-aa80-248e1f894a47",
   "metadata": {},
   "outputs": [],
   "source": [
    "data.describe().T"
   ]
  },
  {
   "cell_type": "code",
   "execution_count": null,
   "id": "08432719-873f-4021-a46a-90cff5ece600",
   "metadata": {},
   "outputs": [],
   "source": [
    "data.shape"
   ]
  },
  {
   "cell_type": "code",
   "execution_count": null,
   "id": "b941c5b7-4379-453f-bd96-db48d8719396",
   "metadata": {},
   "outputs": [],
   "source": [
    "data.size"
   ]
  },
  {
   "cell_type": "code",
   "execution_count": null,
   "id": "84728f6a-cdc7-4811-b719-de3c37ce917c",
   "metadata": {},
   "outputs": [],
   "source": [
    "data.columns"
   ]
  },
  {
   "cell_type": "code",
   "execution_count": null,
   "id": "19817c82-7527-4c5f-ba40-160a5bc9bf37",
   "metadata": {},
   "outputs": [],
   "source": [
    "data.Manufacturer"
   ]
  },
  {
   "cell_type": "code",
   "execution_count": null,
   "id": "34b9d06b-619a-41c2-9538-bc519378bf81",
   "metadata": {},
   "outputs": [],
   "source": [
    "data.Latest_Launch"
   ]
  },
  {
   "cell_type": "code",
   "execution_count": null,
   "id": "9a575a4c-e37b-45a8-8917-077c625cd4db",
   "metadata": {},
   "outputs": [],
   "source": [
    "data.Latest_Launch.dtype"
   ]
  },
  {
   "cell_type": "markdown",
   "id": "397abf6a-6d51-4618-9d2d-8b873e4e3259",
   "metadata": {},
   "source": [
    "#### Parse dates"
   ]
  },
  {
   "cell_type": "code",
   "execution_count": null,
   "id": "f477372b-89e0-4d34-b341-8b623c61daa0",
   "metadata": {},
   "outputs": [],
   "source": [
    "data = pd.read_csv('./Car_sales.csv', parse_dates=['Latest_Launch'])"
   ]
  },
  {
   "cell_type": "code",
   "execution_count": null,
   "id": "a2dec44e-6dfc-4432-a099-7858976360f2",
   "metadata": {},
   "outputs": [],
   "source": [
    "data.Latest_Launch.dtype"
   ]
  },
  {
   "cell_type": "code",
   "execution_count": null,
   "id": "b111469e-287e-4d5a-9fa3-bbbe4b189351",
   "metadata": {},
   "outputs": [],
   "source": [
    "data.head()"
   ]
  },
  {
   "cell_type": "markdown",
   "id": "840a0515-ac0f-4ca3-8138-d05b4e1813b7",
   "metadata": {},
   "source": [
    "#### Null count and percentage"
   ]
  },
  {
   "cell_type": "code",
   "execution_count": null,
   "id": "ba7bf5df-018e-4225-8ce7-7a7e4900c76c",
   "metadata": {},
   "outputs": [],
   "source": [
    "data.isnull().sum()"
   ]
  },
  {
   "cell_type": "code",
   "execution_count": null,
   "id": "c87fb418-3794-42ee-90e4-a881c34b2382",
   "metadata": {},
   "outputs": [],
   "source": [
    "data.isnull().mean()*100"
   ]
  },
  {
   "cell_type": "markdown",
   "id": "2c9eb6fa-e7b4-486f-8741-fff0ecb439bc",
   "metadata": {},
   "source": [
    "#### Duplicate entries"
   ]
  },
  {
   "cell_type": "code",
   "execution_count": null,
   "id": "41a94325-4625-497e-8c93-8d8a92d384a6",
   "metadata": {},
   "outputs": [],
   "source": [
    "data.duplicated().sum()"
   ]
  },
  {
   "cell_type": "markdown",
   "id": "58c2f029-f39f-448c-a734-f56afdf5eab9",
   "metadata": {},
   "source": [
    "#### Dropping null values"
   ]
  },
  {
   "cell_type": "code",
   "execution_count": null,
   "id": "df54f830-ab50-44fa-8e27-02461283e9f9",
   "metadata": {},
   "outputs": [],
   "source": [
    "data.dropna()"
   ]
  },
  {
   "cell_type": "code",
   "execution_count": null,
   "id": "64e07686-8066-4e81-9ad3-393eb14c9e77",
   "metadata": {},
   "outputs": [],
   "source": [
    "data.dropna(inplace=True)"
   ]
  },
  {
   "cell_type": "code",
   "execution_count": null,
   "id": "c711bb37-fa22-4a6e-bd86-49c179a905d2",
   "metadata": {},
   "outputs": [],
   "source": [
    "data.isnull().sum()"
   ]
  },
  {
   "cell_type": "code",
   "execution_count": null,
   "id": "a3c6569d-b7d8-4dd8-9cf6-36be301bf1bf",
   "metadata": {},
   "outputs": [],
   "source": [
    "data['Vehicle_type'].value_counts()"
   ]
  },
  {
   "cell_type": "markdown",
   "id": "e1a35a6e-5ed4-4c9b-8d0c-5924b2c3db97",
   "metadata": {},
   "source": [
    "#### Resetting the index number"
   ]
  },
  {
   "cell_type": "code",
   "execution_count": null,
   "id": "818f6d56-9349-4208-a6f0-19749ea86f6b",
   "metadata": {},
   "outputs": [],
   "source": [
    "data.reset_index()"
   ]
  },
  {
   "cell_type": "code",
   "execution_count": null,
   "id": "431fbbe6-db96-4ebe-84e3-4e59cce6a6b4",
   "metadata": {},
   "outputs": [],
   "source": [
    "data.reset_index(drop=True, inplace=True)"
   ]
  },
  {
   "cell_type": "code",
   "execution_count": null,
   "id": "7b15854a-2c6f-478a-ad38-442733b12e5a",
   "metadata": {},
   "outputs": [],
   "source": [
    "data.sample(5)"
   ]
  },
  {
   "cell_type": "markdown",
   "id": "d1e04396-6e5e-4670-9c52-d96b8e78b836",
   "metadata": {},
   "source": [
    "#### Slicing"
   ]
  },
  {
   "cell_type": "code",
   "execution_count": null,
   "id": "d3c70e77-100b-42e7-acc1-1505fa10be13",
   "metadata": {},
   "outputs": [],
   "source": [
    "data.loc[50:60]"
   ]
  },
  {
   "cell_type": "code",
   "execution_count": null,
   "id": "8a6b7fef-dcbd-49b6-ab45-1cbda8113eb2",
   "metadata": {},
   "outputs": [],
   "source": [
    "data.loc[15:20]"
   ]
  },
  {
   "cell_type": "code",
   "execution_count": null,
   "id": "3d15a3d9-ae83-46c3-9cb9-57a01b5a93e3",
   "metadata": {},
   "outputs": [],
   "source": [
    "data.iloc[50:55]"
   ]
  },
  {
   "cell_type": "code",
   "execution_count": null,
   "id": "2a8b909a-9825-466c-96a2-abc3284e5c6c",
   "metadata": {},
   "outputs": [],
   "source": [
    "data.iloc[:20]"
   ]
  },
  {
   "cell_type": "code",
   "execution_count": null,
   "id": "f79d36c8-c438-4dfc-b2ea-362e4efcdac6",
   "metadata": {},
   "outputs": [],
   "source": [
    "data.iloc[100:]"
   ]
  },
  {
   "cell_type": "markdown",
   "id": "f4ea6d72-31be-41b5-bcef-1359dc9db628",
   "metadata": {},
   "source": [
    "#### Calling the columns"
   ]
  },
  {
   "cell_type": "code",
   "execution_count": null,
   "id": "4922d52f-2f50-4213-867f-529092c1764e",
   "metadata": {},
   "outputs": [],
   "source": [
    "data.columns"
   ]
  },
  {
   "cell_type": "code",
   "execution_count": null,
   "id": "7a1fabd8-8068-463c-a615-1e02e7b3f127",
   "metadata": {},
   "outputs": [],
   "source": [
    "data.Manufacturer"
   ]
  },
  {
   "cell_type": "code",
   "execution_count": null,
   "id": "6fd21bac-bcbe-4a2d-85a5-7d88d85066a5",
   "metadata": {},
   "outputs": [],
   "source": [
    "data[\"Model\"]"
   ]
  },
  {
   "cell_type": "code",
   "execution_count": null,
   "id": "fb00dfcc-ba1b-4be2-9b08-7fc9c3c92a3c",
   "metadata": {},
   "outputs": [],
   "source": [
    "data[\"Engine_size\"].value_counts()"
   ]
  },
  {
   "cell_type": "code",
   "execution_count": null,
   "id": "66bb0c8d-8498-4f4c-b74c-41515ac1a7c7",
   "metadata": {},
   "outputs": [],
   "source": [
    "data[\"Vehicle_type\"].value_counts()"
   ]
  },
  {
   "cell_type": "code",
   "execution_count": null,
   "id": "63b1ff36-3d3a-42ab-8407-d315cd67364e",
   "metadata": {},
   "outputs": [],
   "source": [
    "data[\"Engine_size\"].nunique()"
   ]
  },
  {
   "cell_type": "code",
   "execution_count": null,
   "id": "9980fe15-912e-4cd9-996f-d091c8c83450",
   "metadata": {},
   "outputs": [],
   "source": [
    "data[\"Manufacturer\"].unique()"
   ]
  },
  {
   "cell_type": "code",
   "execution_count": null,
   "id": "91a44283-0204-4c1d-8a65-aa2527ff714d",
   "metadata": {},
   "outputs": [],
   "source": [
    "data[\"Price_in_thousands\"].mean()"
   ]
  },
  {
   "cell_type": "code",
   "execution_count": null,
   "id": "afa198df-6604-48f0-9bb1-27b93096055e",
   "metadata": {},
   "outputs": [],
   "source": [
    "data[\"Sales_in_thousands\"].sum()"
   ]
  },
  {
   "cell_type": "code",
   "execution_count": null,
   "id": "acf9527a-dfaf-4e73-83b4-1999b9e369cb",
   "metadata": {},
   "outputs": [],
   "source": [
    "data[\"Sales_in_thousands\"].max()"
   ]
  },
  {
   "cell_type": "code",
   "execution_count": null,
   "id": "6c118e62-6220-4987-b146-db424176f92c",
   "metadata": {},
   "outputs": [],
   "source": [
    "data[\"Sales_in_thousands\"].min()"
   ]
  },
  {
   "cell_type": "markdown",
   "id": "4648fb40-3e85-47c4-ae8d-1f60ef1e19df",
   "metadata": {},
   "source": [
    "#### Sorting"
   ]
  },
  {
   "cell_type": "code",
   "execution_count": null,
   "id": "d1d2eba2-8946-4dd7-81d1-7032fc12977a",
   "metadata": {},
   "outputs": [],
   "source": [
    "data.columns"
   ]
  },
  {
   "cell_type": "code",
   "execution_count": null,
   "id": "c261fbf1-5871-473f-b3b9-34995701aa51",
   "metadata": {},
   "outputs": [],
   "source": [
    "data.sort_values(by=\"Sales_in_thousands\")"
   ]
  },
  {
   "cell_type": "code",
   "execution_count": null,
   "id": "0bdf2e69-9242-4c0a-a08d-d4e97068ee6e",
   "metadata": {},
   "outputs": [],
   "source": [
    "data.sort_values(by='Horsepower')"
   ]
  },
  {
   "cell_type": "code",
   "execution_count": null,
   "id": "9448e0dd-beee-4055-a427-796b0889880e",
   "metadata": {},
   "outputs": [],
   "source": [
    "data.sort_values(by='Horsepower', ascending=False)"
   ]
  },
  {
   "cell_type": "code",
   "execution_count": null,
   "id": "39455d47-70d9-4e3f-ab76-3e08825d6126",
   "metadata": {},
   "outputs": [],
   "source": [
    "data.sort_values(by='Manufacturer')"
   ]
  },
  {
   "cell_type": "code",
   "execution_count": null,
   "id": "b9dae398-6da9-42a3-bfa5-e4b75a02f066",
   "metadata": {},
   "outputs": [],
   "source": [
    "data.sort_values(by='Manufacturer', ascending=False)"
   ]
  },
  {
   "cell_type": "markdown",
   "id": "c6779795-fe9a-486b-9c4e-a54eb825fc57",
   "metadata": {},
   "source": [
    "#### Filtering"
   ]
  },
  {
   "cell_type": "code",
   "execution_count": null,
   "id": "a6a88b89-b07f-400a-be0f-a9afffa969ad",
   "metadata": {},
   "outputs": [],
   "source": [
    "data[data['Sales_in_thousands'] > 200]"
   ]
  },
  {
   "cell_type": "code",
   "execution_count": null,
   "id": "22dfe28f-bd95-47a1-8649-735a613f88f6",
   "metadata": {},
   "outputs": [],
   "source": [
    "data[data['Horsepower'] < 100]"
   ]
  },
  {
   "cell_type": "code",
   "execution_count": null,
   "id": "2e749346-6588-41f5-9cfd-be7b7ba43d7a",
   "metadata": {},
   "outputs": [],
   "source": [
    "data[data['Manufacturer'] == 'Hyundai']"
   ]
  },
  {
   "cell_type": "code",
   "execution_count": null,
   "id": "3f497362-386c-46df-8e6b-d39d94645fae",
   "metadata": {},
   "outputs": [],
   "source": [
    "data[data['Engine_size'] >= 2.4]"
   ]
  },
  {
   "cell_type": "code",
   "execution_count": null,
   "id": "831ed20f-f54a-4878-a358-db1789fab17e",
   "metadata": {},
   "outputs": [],
   "source": [
    "data[data['Vehicle_type'] == 'Passenger']"
   ]
  },
  {
   "cell_type": "code",
   "execution_count": null,
   "id": "4d02188a-e312-47fe-9aed-0aff72573195",
   "metadata": {},
   "outputs": [],
   "source": [
    "data[data['Vehicle_type'] == 'Car']"
   ]
  },
  {
   "cell_type": "markdown",
   "id": "eecb3327-a67d-47e8-a4a4-7d683999f3f1",
   "metadata": {},
   "source": [
    "#### groupby"
   ]
  },
  {
   "cell_type": "code",
   "execution_count": null,
   "id": "e0fe9f78-62f7-4d96-b5de-5618f14bcf31",
   "metadata": {},
   "outputs": [],
   "source": [
    "data.head()"
   ]
  },
  {
   "cell_type": "code",
   "execution_count": null,
   "id": "93db6925-b73c-4864-ba00-0f17f4847bb5",
   "metadata": {},
   "outputs": [],
   "source": [
    "Manufacturer_wise_average_resale_value = data.groupby(['Manufacturer'])['__year_resale_value'].mean().reset_index()\n",
    "Manufacturer_wise_average_resale_value"
   ]
  },
  {
   "cell_type": "code",
   "execution_count": null,
   "id": "30282c51-db4d-4a15-8562-ea9ba2e96a88",
   "metadata": {},
   "outputs": [],
   "source": [
    "Vehicle_type_average_sales = data.groupby(['Vehicle_type'])['Sales_in_thousands'].mean().reset_index()\n",
    "Vehicle_type_average_sales"
   ]
  },
  {
   "cell_type": "code",
   "execution_count": null,
   "id": "04d3610d-fa0a-45c0-a476-5d61994ec284",
   "metadata": {},
   "outputs": [],
   "source": [
    "Manufacturer_total_sales = data.groupby(['Manufacturer'])['Sales_in_thousands'].sum().reset_index()\n",
    "Manufacturer_total_sales"
   ]
  },
  {
   "cell_type": "markdown",
   "id": "1f43063d-0b87-4b88-8f33-09e1ed9b6dde",
   "metadata": {},
   "source": [
    "#### Querying the data"
   ]
  },
  {
   "cell_type": "code",
   "execution_count": null,
   "id": "1de3380c-d99f-4436-8f7c-b85786cf7e00",
   "metadata": {},
   "outputs": [],
   "source": [
    "data.sample()"
   ]
  },
  {
   "cell_type": "code",
   "execution_count": null,
   "id": "cb238264-a954-40f9-8b18-e09e9ba671ec",
   "metadata": {},
   "outputs": [],
   "source": [
    "data[data['Manufacturer'] == 'Ford']"
   ]
  },
  {
   "cell_type": "code",
   "execution_count": null,
   "id": "0c344e1d-3344-4a5a-ade4-e9093c0eaf8c",
   "metadata": {},
   "outputs": [],
   "source": [
    "Manufacturer_Ford = data.query(\"Manufacturer == 'Ford'\")\n",
    "Manufacturer_Ford"
   ]
  },
  {
   "cell_type": "code",
   "execution_count": null,
   "id": "41d58732-743e-4acf-a588-b16f5add4229",
   "metadata": {},
   "outputs": [],
   "source": [
    "Manufacturer_Toyota = data.query(\"Manufacturer == 'Toyota'\")\n",
    "Manufacturer_Toyota"
   ]
  },
  {
   "cell_type": "code",
   "execution_count": null,
   "id": "d84344cb-0424-4808-bb7e-7a20dcb4619b",
   "metadata": {},
   "outputs": [],
   "source": [
    "data.query(\"Manufacturer == 'Toyota' & Vehicle_type == 'Car' & Sales_in_thousands >= 50\")"
   ]
  },
  {
   "cell_type": "code",
   "execution_count": null,
   "id": "3073c16d-98d1-423b-a726-661e8f46062c",
   "metadata": {},
   "outputs": [],
   "source": [
    "Cars_Horsepower_and_length_over200 = data.query(\"Length >= 200 & Horsepower >= 200 & Vehicle_type == 'Car'\")\n",
    "Cars_Horsepower_and_length_over200"
   ]
  },
  {
   "cell_type": "markdown",
   "id": "38aa2885-9fcd-48ee-acd3-7c65b5ed5825",
   "metadata": {},
   "source": [
    "#### Pivot()"
   ]
  },
  {
   "cell_type": "code",
   "execution_count": null,
   "id": "cb3ef126-3394-4aa7-ad75-cb363bb9010a",
   "metadata": {},
   "outputs": [],
   "source": [
    "data.pivot_table(index='Manufacturer',values= '__year_resale_value', aggfunc='mean')"
   ]
  },
  {
   "cell_type": "code",
   "execution_count": null,
   "id": "23d4cfa4-5ce1-48ab-bcd3-c1caab98297e",
   "metadata": {},
   "outputs": [],
   "source": [
    "data['Sales_Bin'] = pd.cut(data['Sales_in_thousands'], bins=[0,5,10,20,50,100], labels=['0-5','5-10','10-20','20-50','50+'])"
   ]
  },
  {
   "cell_type": "code",
   "execution_count": null,
   "id": "15f7de4f-7cb0-4950-8920-5c2a8608b4e1",
   "metadata": {},
   "outputs": [],
   "source": [
    "Sales_Pivot = data.pivot_table(\n",
    "    index='Manufacturer',\n",
    "    columns='Sales_Bin',\n",
    "    values='Sales_in_thousands',\n",
    "    aggfunc='mean'\n",
    ").fillna(0).round(1)\n",
    "\n",
    "Sales_Pivot"
   ]
  },
  {
   "cell_type": "markdown",
   "id": "7f821db3-1283-4343-9a47-1e1f1cde14af",
   "metadata": {},
   "source": [
    "#### Vehicle type brands price sum"
   ]
  },
  {
   "cell_type": "code",
   "execution_count": null,
   "id": "f8fc70b6-726d-4283-a6a9-4c2bcc443cbc",
   "metadata": {},
   "outputs": [],
   "source": [
    "Pivot_03 = data.pivot_table(index='Manufacturer', columns='Vehicle_type', values='Price_in_thousands', aggfunc='sum')\n",
    "Pivot_03.fillna(0)"
   ]
  },
  {
   "cell_type": "markdown",
   "id": "2cab7e62-1bae-4bdb-8de7-38833c4170a0",
   "metadata": {},
   "source": [
    "#### Horsepower distribution - Manufacturer wise"
   ]
  },
  {
   "cell_type": "code",
   "execution_count": null,
   "id": "1474fc29-29c6-4191-9244-d0c56545d1c4",
   "metadata": {},
   "outputs": [],
   "source": [
    "data['Horsepower_bins'] = pd.cut(data['Horsepower'], bins=[0,50,100,150,200,250,300, float('inf')], labels=['0-49','50-99','100-149','150-199','200-249','250-299','300+'])\n",
    "Pivot_04 = data.pivot_table(index='Manufacturer', columns='Horsepower_bins', values='Horsepower', aggfunc='count')\n",
    "Pivot_04_display = Pivot_04\n",
    "Pivot_04_display"
   ]
  },
  {
   "cell_type": "code",
   "execution_count": null,
   "id": "ba5789e9-5d71-4e09-ab44-fe1e15bd2f33",
   "metadata": {},
   "outputs": [],
   "source": [
    "data.drop(['Sales_Bin','Horsepower_bins'],axis=1,inplace=True)"
   ]
  },
  {
   "cell_type": "code",
   "execution_count": null,
   "id": "1496f3a5-f93e-492b-ba92-47f151415799",
   "metadata": {},
   "outputs": [],
   "source": [
    "data.info()"
   ]
  },
  {
   "cell_type": "code",
   "execution_count": null,
   "id": "c823d03d-0fae-4e24-88aa-a3d86eaeb89c",
   "metadata": {},
   "outputs": [],
   "source": [
    "data.select_dtypes(float)"
   ]
  },
  {
   "cell_type": "code",
   "execution_count": null,
   "id": "07b79c45-5dba-4b18-a56e-b0b9c87a2720",
   "metadata": {},
   "outputs": [],
   "source": [
    "data.select_dtypes(include=\"datetime\")"
   ]
  },
  {
   "cell_type": "code",
   "execution_count": null,
   "id": "499db7f4-7968-4612-81f2-ca790e8edaed",
   "metadata": {},
   "outputs": [],
   "source": [
    "data.select_dtypes(object)"
   ]
  },
  {
   "cell_type": "markdown",
   "id": "b6d28341-7f83-4c0e-b8d1-8cd53bf4894e",
   "metadata": {},
   "source": [
    "#### Cumulative sum"
   ]
  },
  {
   "cell_type": "code",
   "execution_count": null,
   "id": "21e18d68-2ab6-4415-8e83-e1dc487aaba0",
   "metadata": {},
   "outputs": [],
   "source": [
    "data.sample(2)"
   ]
  },
  {
   "cell_type": "code",
   "execution_count": null,
   "id": "fc5f3078-607f-4b19-9ef5-a974302b7162",
   "metadata": {},
   "outputs": [],
   "source": [
    "data[['Sales_in_thousands','Price_in_thousands']].dropna().cumsum()"
   ]
  },
  {
   "cell_type": "markdown",
   "id": "bbbb0ce8-ac97-4165-a4eb-867befe3f582",
   "metadata": {},
   "source": [
    "### Replace"
   ]
  },
  {
   "cell_type": "code",
   "execution_count": null,
   "id": "f556e0db-e778-463a-b167-e9d347e01848",
   "metadata": {},
   "outputs": [],
   "source": [
    "data"
   ]
  },
  {
   "cell_type": "code",
   "execution_count": null,
   "id": "1d0cff0d-ef1a-4153-827b-1d07c244ec4e",
   "metadata": {},
   "outputs": [],
   "source": [
    "data.Vehicle_type.replace({'Passenger':'P', 'Car':'C'}, inplace=True)\n",
    "data"
   ]
  },
  {
   "cell_type": "code",
   "execution_count": null,
   "id": "cf1ad318-451a-4c72-8e43-76a45dbd87f5",
   "metadata": {},
   "outputs": [],
   "source": [
    "data.Vehicle_type.replace({'P':'Passenger', 'C':'Car'}, inplace=True)\n",
    "data"
   ]
  },
  {
   "cell_type": "code",
   "execution_count": null,
   "id": "a55967bc-0977-43b1-8eaf-5744f52d367c",
   "metadata": {},
   "outputs": [],
   "source": [
    "data.info()"
   ]
  },
  {
   "cell_type": "markdown",
   "id": "604cf619-8f4b-45ba-ace1-3f664a827e3b",
   "metadata": {},
   "source": [
    "### Rename"
   ]
  },
  {
   "cell_type": "code",
   "execution_count": null,
   "id": "c8ab2ea9-ff5d-4142-a5a5-408b40bae14c",
   "metadata": {},
   "outputs": [],
   "source": [
    "data.columns"
   ]
  },
  {
   "cell_type": "code",
   "execution_count": null,
   "id": "736083ca-c4ba-4ba9-9fe2-c83aa2b439dc",
   "metadata": {},
   "outputs": [],
   "source": [
    "data.rename(columns={'__year_resale_value':'Year_resale_value'},inplace=True)"
   ]
  },
  {
   "cell_type": "code",
   "execution_count": null,
   "id": "f4440bca-e7ef-42f6-a4c0-947f71a294f1",
   "metadata": {},
   "outputs": [],
   "source": [
    "data.head(1)"
   ]
  },
  {
   "cell_type": "markdown",
   "id": "0e57ce91-2dec-4400-9a07-31ce2583b014",
   "metadata": {},
   "source": [
    "### Fillna"
   ]
  },
  {
   "cell_type": "code",
   "execution_count": null,
   "id": "61467426-4cab-4a16-bd41-9350023fdcab",
   "metadata": {},
   "outputs": [],
   "source": [
    "data.isnull().sum()"
   ]
  },
  {
   "cell_type": "code",
   "execution_count": null,
   "id": "0554fc2d-28bc-4a88-bb43-343f4d6ce2f8",
   "metadata": {},
   "outputs": [],
   "source": [
    "data['Year_resale_value'].mode()"
   ]
  },
  {
   "cell_type": "code",
   "execution_count": null,
   "id": "f203061e-80c3-4e46-921a-f9713cc3f9b5",
   "metadata": {},
   "outputs": [],
   "source": [
    "data['Year_resale_value'].value_counts().idxmax()"
   ]
  },
  {
   "cell_type": "code",
   "execution_count": null,
   "id": "84341d1a-a18f-4e71-b558-441362522a19",
   "metadata": {},
   "outputs": [],
   "source": [
    "data['Year_resale_value'].fillna(7.75, inplace=True)"
   ]
  },
  {
   "cell_type": "code",
   "execution_count": null,
   "id": "f3a8873c-6112-47d4-abb9-7739b0e13259",
   "metadata": {},
   "outputs": [],
   "source": [
    "data.isnull().sum()"
   ]
  },
  {
   "cell_type": "markdown",
   "id": "2b9f315d-d855-4cbd-ac15-c7fb929ae27f",
   "metadata": {},
   "source": [
    "### Pct change"
   ]
  },
  {
   "cell_type": "code",
   "execution_count": null,
   "id": "d3fb63e7-d2da-4449-b4cf-bd7347a1cf6b",
   "metadata": {},
   "outputs": [],
   "source": [
    "data"
   ]
  },
  {
   "cell_type": "code",
   "execution_count": null,
   "id": "1c11ec97-9070-4697-ba4f-45b2c3eacc73",
   "metadata": {},
   "outputs": [],
   "source": [
    "data['Price_in_thousands'].pct_change()"
   ]
  },
  {
   "cell_type": "markdown",
   "id": "c1bfeaaa-66bd-4e2b-8712-7b708e6b815e",
   "metadata": {},
   "source": [
    "### Pd Cut"
   ]
  },
  {
   "cell_type": "code",
   "execution_count": null,
   "id": "1268d84c-744c-4262-95c1-b8a069561c4a",
   "metadata": {},
   "outputs": [],
   "source": [
    "data.head()"
   ]
  },
  {
   "cell_type": "code",
   "execution_count": null,
   "id": "d761c24c-7a78-4fae-b582-a698a6bf58e9",
   "metadata": {},
   "outputs": [],
   "source": [
    "data['Horsepower'].max()"
   ]
  },
  {
   "cell_type": "code",
   "execution_count": null,
   "id": "a2bd91aa-f86c-48d5-9088-ea4a63e0f3e2",
   "metadata": {},
   "outputs": [],
   "source": [
    "Horsepower_bins = [0,100,200,300,400,500]\n",
    "Horsepower_labels = ['0-100','101-200','201-300','301-400','401+']\n",
    "\n",
    "data['Horsepower_categories'] = pd.cut(data['Horsepower'], bins=Horsepower_bins, labels=Horsepower_labels)"
   ]
  },
  {
   "cell_type": "code",
   "execution_count": null,
   "id": "9730ff46-6605-4b11-878b-6c0b9909f117",
   "metadata": {},
   "outputs": [],
   "source": [
    "data.sample(20)"
   ]
  },
  {
   "cell_type": "code",
   "execution_count": null,
   "id": "b5d0e921-66d3-42b2-8d73-e93eb70a8b2d",
   "metadata": {},
   "outputs": [],
   "source": [
    "grouped = data.groupby(['Manufacturer'])['Horsepower_categories'].value_counts()\n",
    "print(grouped)"
   ]
  },
  {
   "cell_type": "markdown",
   "id": "83a67135-b2d6-4ee8-9a07-76bd1c7110cd",
   "metadata": {},
   "source": [
    "### n_largest and n_smallest"
   ]
  },
  {
   "cell_type": "code",
   "execution_count": null,
   "id": "e84d4cfa-5e82-4657-83e1-e09a678f5868",
   "metadata": {},
   "outputs": [],
   "source": [
    "data.nlargest(5,'Horsepower').reset_index(drop=True)"
   ]
  },
  {
   "cell_type": "code",
   "execution_count": null,
   "id": "6d16db16-3aae-4867-9a08-39b41caf2d07",
   "metadata": {},
   "outputs": [],
   "source": [
    "data.nsmallest(5,'Horsepower').reset_index(drop=True)"
   ]
  },
  {
   "cell_type": "markdown",
   "id": "f1da333d-efee-46cd-ab50-ccc35b2b6229",
   "metadata": {},
   "source": [
    "### Cross tabulation"
   ]
  },
  {
   "cell_type": "code",
   "execution_count": null,
   "id": "f9b3e22a-13f0-462d-9aed-95307f822041",
   "metadata": {},
   "outputs": [],
   "source": [
    "pd.crosstab(data.Manufacturer, data.Vehicle_type)"
   ]
  },
  {
   "cell_type": "code",
   "execution_count": null,
   "id": "26282f35-83af-4518-b8b5-069b95600a15",
   "metadata": {},
   "outputs": [],
   "source": [
    "pd.crosstab(\n",
    "    index=data['Manufacturer'],\n",
    "    columns=data['Horsepower_categories'],\n",
    "    values=data['Sales_in_thousands'],\n",
    "    aggfunc='sum'\n",
    ").fillna(0).round(1)"
   ]
  },
  {
   "cell_type": "code",
   "execution_count": null,
   "id": "4e26b616-954f-485e-8eae-313d539e4024",
   "metadata": {},
   "outputs": [],
   "source": []
  }
 ],
 "metadata": {
  "kernelspec": {
   "display_name": "Python 3 (ipykernel)",
   "language": "python",
   "name": "python3"
  },
  "language_info": {
   "codemirror_mode": {
    "name": "ipython",
    "version": 3
   },
   "file_extension": ".py",
   "mimetype": "text/x-python",
   "name": "python",
   "nbconvert_exporter": "python",
   "pygments_lexer": "ipython3",
   "version": "3.12.7"
  }
 },
 "nbformat": 4,
 "nbformat_minor": 5
}
