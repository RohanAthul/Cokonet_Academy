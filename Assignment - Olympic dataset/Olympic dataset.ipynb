{
 "cells": [
  {
   "cell_type": "markdown",
   "id": "eccbd85c-612e-4794-84ef-0b3bd6331b72",
   "metadata": {},
   "source": [
    "# <center> Assignment 4 | Olympic Dataset"
   ]
  },
  {
   "cell_type": "markdown",
   "id": "98caa9e3-a5d8-4fb1-a6f6-446b2ffb9d40",
   "metadata": {},
   "source": [
    "#### Loading Dependencies"
   ]
  },
  {
   "cell_type": "code",
   "execution_count": null,
   "id": "0c3bf2da-3869-4100-89e1-9d44a3b8da1a",
   "metadata": {},
   "outputs": [],
   "source": [
    "import pandas as pd\n",
    "import numpy as np\n",
    "import warnings\n",
    "warnings.filterwarnings(\"ignore\")"
   ]
  },
  {
   "cell_type": "markdown",
   "id": "5df6e969-d526-4031-b4c8-a54f0f027829",
   "metadata": {},
   "source": [
    "#### Loading the dataset"
   ]
  },
  {
   "cell_type": "code",
   "execution_count": null,
   "id": "24d23229-c2e0-4484-bfbd-d0ee5c3ef4f0",
   "metadata": {},
   "outputs": [],
   "source": [
    "data = pd.read_csv('./athlete_events.csv')"
   ]
  },
  {
   "cell_type": "markdown",
   "id": "df10c7de-a5b5-4a5b-87ea-5ff435b318d7",
   "metadata": {},
   "source": [
    "#### Viewing the dataset"
   ]
  },
  {
   "cell_type": "code",
   "execution_count": null,
   "id": "326a02c8-0d3c-40a1-861a-99122cd5abd0",
   "metadata": {},
   "outputs": [],
   "source": [
    "data.head()"
   ]
  },
  {
   "cell_type": "code",
   "execution_count": null,
   "id": "c31623ab-d2dd-476f-907c-c5740e223766",
   "metadata": {},
   "outputs": [],
   "source": [
    "data.tail()"
   ]
  },
  {
   "cell_type": "code",
   "execution_count": null,
   "id": "552cc7da-0986-4eb2-a0b3-8a14b4de4cb2",
   "metadata": {},
   "outputs": [],
   "source": [
    "data.sample(5)"
   ]
  },
  {
   "cell_type": "code",
   "execution_count": null,
   "id": "e4ad7095-93f2-4db3-aaf7-0da2bb50f05f",
   "metadata": {},
   "outputs": [],
   "source": [
    "data.describe().T"
   ]
  },
  {
   "cell_type": "code",
   "execution_count": null,
   "id": "a39d9c97-ce40-4911-aa54-1e33d7f6bdf1",
   "metadata": {},
   "outputs": [],
   "source": [
    "data.info()"
   ]
  },
  {
   "cell_type": "code",
   "execution_count": null,
   "id": "c1ba560a-a66e-45e2-a9fd-55845766a803",
   "metadata": {},
   "outputs": [],
   "source": [
    "data.shape"
   ]
  },
  {
   "cell_type": "markdown",
   "id": "0da2fa68-6306-4d58-9a79-d90ce8a5db2b",
   "metadata": {},
   "source": [
    "#### Null count and percentage"
   ]
  },
  {
   "cell_type": "code",
   "execution_count": null,
   "id": "a3208fbe-c349-41f3-96c6-f754e052b715",
   "metadata": {},
   "outputs": [],
   "source": [
    "data.isnull().sum()"
   ]
  },
  {
   "cell_type": "code",
   "execution_count": null,
   "id": "dfffd702-7536-4fd7-9781-de36c97d640f",
   "metadata": {},
   "outputs": [],
   "source": [
    "data.isnull().mean()*100"
   ]
  },
  {
   "cell_type": "markdown",
   "id": "3c66bcd1-0b01-4483-8dc4-683dc3db488b",
   "metadata": {},
   "source": [
    "#### Checking for duplicates"
   ]
  },
  {
   "cell_type": "code",
   "execution_count": null,
   "id": "438c4da7-eb9a-4444-b860-e5b68d723a69",
   "metadata": {},
   "outputs": [],
   "source": [
    "data.duplicated().sum()"
   ]
  },
  {
   "cell_type": "code",
   "execution_count": null,
   "id": "f44673ca-2c37-4fad-9df7-aea43492d06d",
   "metadata": {},
   "outputs": [],
   "source": [
    "data[data.duplicated(keep=False)]"
   ]
  },
  {
   "cell_type": "markdown",
   "id": "6dd3909f-d0f6-415c-8bbe-a063b6a04004",
   "metadata": {},
   "source": [
    "#### Dropping duplicates"
   ]
  },
  {
   "cell_type": "code",
   "execution_count": null,
   "id": "46a73343-8e0f-4938-935a-a146d7cbc6cd",
   "metadata": {},
   "outputs": [],
   "source": [
    "data.drop_duplicates(inplace=True)"
   ]
  },
  {
   "cell_type": "code",
   "execution_count": null,
   "id": "962db848-7c4e-46b8-a5d3-1e50c298d963",
   "metadata": {},
   "outputs": [],
   "source": [
    "data.duplicated().sum()"
   ]
  },
  {
   "cell_type": "markdown",
   "id": "ff5e6585-78f9-40a2-9e07-120be67f75b3",
   "metadata": {},
   "source": [
    "#### Resetting the index"
   ]
  },
  {
   "cell_type": "code",
   "execution_count": null,
   "id": "613d8941-06b2-4efb-ab33-b9c5adc12bf2",
   "metadata": {},
   "outputs": [],
   "source": [
    "data.reset_index()"
   ]
  },
  {
   "cell_type": "code",
   "execution_count": null,
   "id": "fd16df0a-f88d-4854-87fc-d261ed4420c4",
   "metadata": {},
   "outputs": [],
   "source": [
    "data.reset_index(drop=True, inplace=True)"
   ]
  },
  {
   "cell_type": "code",
   "execution_count": null,
   "id": "b8b85a5c-9f4b-4e1b-9b01-59ac103e21eb",
   "metadata": {},
   "outputs": [],
   "source": [
    "data.head()"
   ]
  },
  {
   "cell_type": "markdown",
   "id": "6ed886ef-8673-4f24-bfef-57c276d03fea",
   "metadata": {},
   "source": [
    "#### Droping the columns"
   ]
  },
  {
   "cell_type": "code",
   "execution_count": null,
   "id": "5a34225f-41a9-4714-8566-33b131ac0adf",
   "metadata": {},
   "outputs": [],
   "source": [
    "data.columns"
   ]
  },
  {
   "cell_type": "code",
   "execution_count": null,
   "id": "635832dc-ea2b-4dd3-bc22-3d2cef458212",
   "metadata": {},
   "outputs": [],
   "source": [
    "data.drop(columns=['ID','Games'],inplace=True)"
   ]
  },
  {
   "cell_type": "code",
   "execution_count": null,
   "id": "a4b60357-ac79-41cc-87e1-76f1475b9cc1",
   "metadata": {},
   "outputs": [],
   "source": [
    "data"
   ]
  },
  {
   "cell_type": "markdown",
   "id": "2c1d87d9-4738-4a25-89d0-fec7aa33657a",
   "metadata": {},
   "source": [
    "## Olympic Dataset questions"
   ]
  },
  {
   "cell_type": "markdown",
   "id": "9ec68d09-5351-4ef0-aac2-360c92265ba7",
   "metadata": {},
   "source": [
    "### Questions"
   ]
  },
  {
   "cell_type": "markdown",
   "id": "f50f3f71-5eed-40e9-a652-e0722aded7e8",
   "metadata": {},
   "source": [
    "1.\tHow many countries are represented in the dataset?\n",
    "2.\tWhat is the total number of medals awarded?\n",
    "3.\tWhich country has won the most medals?\n",
    "4.\tWhich country has won the least medals?\n",
    "5.\tHow many medals were won by male athletes?\n",
    "6.\tHow many medals were won by female athletes?\n",
    "7.\tWhat is the distribution of medals among different age groups?\n",
    "8.\tWhich year had the highest number of medals?\n",
    "9.\tWhich city hosted the most number of Olympic events?\n",
    "10.\tWhat is the average age of athletes who won medals?\n",
    "11.\tHow many male athletes participated in each Olympic event?\n",
    "12.\tHow many female athletes participated in each Olympic event?\n",
    "13.\tHow many athletes from each country participated in each Olympic event?\n",
    "14.\tHow many athletes from each country won medals?\n",
    "15.\tHow many gold, silver, and bronze medals were won by each country?\n",
    "16.\tWhat is the distribution of medals based on gender?\n",
    "17.\tHow many athletes from each age group won medals?\n",
    "18.\tIn which year was the youngest athlete to win a medal?\n",
    "19.\tIn which year was the oldest athlete to win a medal?\n",
    "20.\tHow many athletes participated in each Olympic event?\n",
    "21.\tWhat is the average age of athletes in each Olympic event?\n",
    "22.\tHow many medals were won by athletes in each Olympic event?\n",
    "23.\tWhat is the distribution of medals based on event?\n",
    "24.\tHow many athletes won medals in each event category (e.g., swimming, athletics)?\n",
    "25.\tWhat is the average age of athletes in each event category?\n",
    "26.\tHow many athletes from each country participated in each event category?\n",
    "27.\tHow many medals were won by athletes from each country in each event category?\n",
    "28.\tWhat is the distribution of medals based on country and gender?\n",
    "29.\tHow many unique athletes are there in the dataset?\n",
    "30.\tHow many athletes won multiple medals?\n",
    "31.\tHow many athletes participated in multiple Olympic events?\n",
    "32.\tWhat is the gender distribution for athletes participating in multiple events?\n",
    "33.\tHow many athletes won medals in multiple events?\n",
    "34.\tWhat is the average age of athletes who won medals in multiple events?\n",
    "35.\tHow many medals were won by male athletes in each event category?\n",
    "36.\tHow many medals were won by female athletes in each event category?\n",
    "37.\tHow many athletes won medals in each event category by year?\n",
    "38.\tWhat is the age distribution of athletes for each event category?\n",
    "39.\tHow many medals were won by male athletes in each event by year?\n",
    "40.\tHow many medals were won by female athletes in each event by year?\n",
    "41.\tHow many medals were won by athletes of different ages in each event category?\n",
    "42.\tWhat is the distribution of medals based on city and gender?\n",
    "43.\tHow many athletes participated in each Olympic event in each city?\n",
    "44.\tWhat is the average age of athletes in each Olympic event in each city?\n",
    "45.\tHow many medals were won by athletes in each Olympic event in each city?\n",
    "46.\tWhat is the gender distribution of athletes in each Olympic event in each city?\n",
    "47.\tHow many medals were won by male athletes in each Olympic event in each city?\n",
    "48.\tHow many medals were won by female athletes in each Olympic event in each city?\n",
    "49.\tHow many athletes from each country won gold, silver, and bronze medals?\n",
    "50.\t How many athletes from each country participated in each Olympic year?\n",
    "51.\tWhat is the distribution of medals based on country and age group?\n",
    "52.\tHow many athletes won medals in each event by country?\n",
    "53.\tWhat is the average age of athletes from each country?\n",
    "54.\tHow many medals were won by athletes from each country by gender?\n",
    "55.\tHow many countries participated in each Olympic event?\n",
    "56.\tWhat is the average age of athletes in each Olympic event by gender?\n",
    "57.\tHow many medals were won by athletes in each Olympic event by gender?\n",
    "58.\tWhat is the distribution of medals based on event and age group?\n",
    "59.\tHow many athletes won medals in each event category by gender?\n",
    "60.\tWhat is the average age of male and female athletes in each event category?\n",
    "61.\tHow many medals were won by athletes from each gender in each event category?\n",
    "62.\tHow many unique athletes participated in each Olympic event by gender?\n",
    "63.\tHow many athletes won multiple medals in each event category?\n",
    "64.\tWhat is the age distribution of male and female athletes in each event category?\n",
    "65.\tHow many medals were won by athletes from each country in each event category by gender?\n",
    "66.\tHow many athletes won medals in each event category by country and gender?\n",
    "67.\tWhat is the average age of athletes who won medals in each event by country?\n",
    "68.\tHow many medals were won by male and female athletes in each event by country?\n",
    "69.\tHow many athletes from each age group participated in each Olympic event?\n",
    "70.\tWhat is the average age of athletes from each age group in each Olympic event?\n",
    "71.\tHow many medals were won by athletes from each age group in each Olympic event?\n",
    "72.\tWhat is the gender distribution of athletes from each age group in each Olympic event?\n",
    "73.\tHow many medals were won by male and female athletes from each age group in each Olympic event?\n"
   ]
  },
  {
   "cell_type": "markdown",
   "id": "becfa3d4-39e4-4b29-aa91-b2c36f1d400f",
   "metadata": {},
   "source": [
    "### Questions 1 to 10"
   ]
  },
  {
   "cell_type": "markdown",
   "id": "631a795a-605f-4f3c-bf05-a7bcffb049fb",
   "metadata": {},
   "source": [
    "#### 1 - How many countries are represented in the dataset?"
   ]
  },
  {
   "cell_type": "code",
   "execution_count": null,
   "id": "de3ef8a6-686d-426d-8c01-bc0d4ead5775",
   "metadata": {},
   "outputs": [],
   "source": [
    "data[\"NOC\"].nunique()"
   ]
  },
  {
   "cell_type": "markdown",
   "id": "e64abf16-7a3d-4766-9316-b6c2930441cf",
   "metadata": {},
   "source": [
    "#### 2 - What is the total number of medals awarded? "
   ]
  },
  {
   "cell_type": "code",
   "execution_count": null,
   "id": "99062eaf-0b1b-4adb-872f-1e05538a03e7",
   "metadata": {},
   "outputs": [],
   "source": [
    "data[\"Medal\"].notna().sum()"
   ]
  },
  {
   "cell_type": "markdown",
   "id": "6af80847-f2d8-4bd5-ba4d-f8a9bf7a87c2",
   "metadata": {},
   "source": [
    "#### 3 - Which country has won the most medals?"
   ]
  },
  {
   "cell_type": "code",
   "execution_count": null,
   "id": "1ab258bf-d3f7-4dd6-a298-49f0987d596b",
   "metadata": {},
   "outputs": [],
   "source": [
    "medal_winners = data[data['Medal'].notna()]\n",
    "medal_winners.head(3)"
   ]
  },
  {
   "cell_type": "code",
   "execution_count": null,
   "id": "24488266-7c28-4268-b7d0-f59ca1840785",
   "metadata": {},
   "outputs": [],
   "source": [
    "medal_winners_count = medal_winners.pivot_table(index='NOC',values='Medal', aggfunc='count')\n",
    "medal_winners_count.head()"
   ]
  },
  {
   "cell_type": "code",
   "execution_count": null,
   "id": "d6244a73-a2f1-4858-9182-9ca8693317d4",
   "metadata": {},
   "outputs": [],
   "source": [
    "medal_winners_count.sort_values('Medal',ascending=False, inplace=True)\n",
    "medal_winners_count.head(1)"
   ]
  },
  {
   "cell_type": "markdown",
   "id": "bb5f5509-1c2d-4963-8ca6-938ca5561635",
   "metadata": {},
   "source": [
    "#### 4 - Which country has won the least medals?"
   ]
  },
  {
   "cell_type": "code",
   "execution_count": null,
   "id": "99746334-6118-4f75-aaea-6f993dedbc5d",
   "metadata": {},
   "outputs": [],
   "source": [
    "Least_medals = medal_winners_count[medal_winners_count['Medal'] == 1].sort_values(by='Medal')\n",
    "Least_medals"
   ]
  },
  {
   "cell_type": "markdown",
   "id": "15fb8371-3c5a-48be-8dca-709450f9d4fc",
   "metadata": {},
   "source": [
    "#### 5 - How many medals were won by male athletes? "
   ]
  },
  {
   "cell_type": "code",
   "execution_count": null,
   "id": "338b78d9-724c-4589-802d-9d5a72a6c1fa",
   "metadata": {},
   "outputs": [],
   "source": [
    "data.query(\"Sex == 'M' & Medal in ['Gold','Silver','Bronze']\").Medal.count()"
   ]
  },
  {
   "cell_type": "markdown",
   "id": "37fedc69-8aeb-4fd6-8def-99ee42504ff5",
   "metadata": {},
   "source": [
    "#### 6. How many medals were won by female athletes?"
   ]
  },
  {
   "cell_type": "code",
   "execution_count": null,
   "id": "a4580fc1-a722-4146-b45e-3074d2f76a61",
   "metadata": {},
   "outputs": [],
   "source": [
    "data.query(\"Sex == 'F' & Medal in ['Gold','Silver','Bronze']\").Medal.count()"
   ]
  },
  {
   "cell_type": "markdown",
   "id": "1e66f3b3-2710-4429-abb7-719e678b363e",
   "metadata": {},
   "source": [
    "#### 7. What is the distribution of medals among different age groups?"
   ]
  },
  {
   "cell_type": "code",
   "execution_count": null,
   "id": "dcc133d4-7823-41ba-b671-cff7e08a3acc",
   "metadata": {},
   "outputs": [],
   "source": [
    "data.head(10)"
   ]
  },
  {
   "cell_type": "code",
   "execution_count": null,
   "id": "68908fde-a95b-48f9-b0a7-8455a67bf063",
   "metadata": {},
   "outputs": [],
   "source": [
    "Sort_by_Age = data.sort_values('Age').reset_index(drop=True)\n",
    "Sort_by_Age.head(2)"
   ]
  },
  {
   "cell_type": "code",
   "execution_count": null,
   "id": "0fc5306c-3d01-4b91-a2c0-28517faf005d",
   "metadata": {},
   "outputs": [],
   "source": [
    "data['Age_Medal_bin'] = pd.cut(data['Age'], bins=[0,10,20,30,40,50,60], labels=['0-10','11-20','21-30','31-40','41-50','51+'])"
   ]
  },
  {
   "cell_type": "code",
   "execution_count": null,
   "id": "a71cc07f-2ad0-415d-8932-4e90fb05da50",
   "metadata": {},
   "outputs": [],
   "source": [
    "Age_Medal_Distribution = data.pivot_table(index='Age_Medal_bin',columns='Medal',values='Age',aggfunc='count')\n",
    "Age_Medal_Distribution"
   ]
  },
  {
   "cell_type": "code",
   "execution_count": null,
   "id": "994284fb-7b7e-406f-8c58-8d9640f27851",
   "metadata": {},
   "outputs": [],
   "source": [
    "data.drop('Age_Medal_bin',axis=1,inplace=True)"
   ]
  },
  {
   "cell_type": "markdown",
   "id": "8ef1c494-6de2-4ae6-b2a6-acda401775e1",
   "metadata": {},
   "source": [
    "#### 8. Which year had the highest number of medals?"
   ]
  },
  {
   "cell_type": "code",
   "execution_count": null,
   "id": "54212640-726e-4ee2-84ae-ec64a2e48b8e",
   "metadata": {},
   "outputs": [],
   "source": [
    "Medal_count_years = data[data['Medal'].notna()].groupby('Year')['Medal'].count().reset_index().sort_values(by='Medal',ascending=False).reset_index(drop=True)\n",
    "Medal_count_years.head(1)"
   ]
  },
  {
   "cell_type": "markdown",
   "id": "ff29d790-7124-433b-a719-59146ee3c960",
   "metadata": {},
   "source": [
    "#### 9. Which city hosted the most number of Olympic events?"
   ]
  },
  {
   "cell_type": "code",
   "execution_count": null,
   "id": "8d5614a8-17ef-4fb0-8968-cce2e272d68d",
   "metadata": {},
   "outputs": [],
   "source": [
    "Events_by_city = data.groupby('City')['Event'].count().reset_index()\n",
    "Events_by_city.sort_values(by='Event', ascending=False).reset_index(drop='True').head(1)"
   ]
  },
  {
   "cell_type": "markdown",
   "id": "ab13b9be-b347-45ca-8ce1-a4c57cfd058f",
   "metadata": {},
   "source": [
    "#### 10. What is the average age of athletes who won medals?"
   ]
  },
  {
   "cell_type": "code",
   "execution_count": null,
   "id": "240703d9-e8ec-47e7-b888-1e615ae4d0ee",
   "metadata": {},
   "outputs": [],
   "source": [
    "Winners = data[data['Medal'].notna()]"
   ]
  },
  {
   "cell_type": "code",
   "execution_count": null,
   "id": "cb3a54db-e013-46c4-a83a-8c2f8a74a2ac",
   "metadata": {},
   "outputs": [],
   "source": [
    "Winners_average_age = Winners['Age'].mean()\n",
    "Winners_average_age = np.ceil(Winners_average_age)\n",
    "Winners_average_age"
   ]
  },
  {
   "cell_type": "markdown",
   "id": "d925d2c8-fc72-4487-83f7-ed48750e0406",
   "metadata": {},
   "source": [
    "### Questions 11 - 20"
   ]
  },
  {
   "cell_type": "markdown",
   "id": "4c60ecc4-0e98-48a7-9ab3-56a02b52b4b5",
   "metadata": {},
   "source": [
    "#### 11. How many male athletes participated in each Olympic event?"
   ]
  },
  {
   "cell_type": "code",
   "execution_count": null,
   "id": "ef09068a-2ee6-4017-b521-a5183224d9de",
   "metadata": {},
   "outputs": [],
   "source": [
    "data.query(\"Sex == 'M'\").shape[0]"
   ]
  },
  {
   "cell_type": "markdown",
   "id": "4d53aa6b-5d9a-438b-bb21-c73d3255ab96",
   "metadata": {},
   "source": [
    "#### 12. How many female athletes participated in each Olympic event?"
   ]
  },
  {
   "cell_type": "code",
   "execution_count": null,
   "id": "81d125b8-01ee-4ae0-939c-904712de4776",
   "metadata": {},
   "outputs": [],
   "source": [
    "data.query(\"Sex == 'F'\").shape[0]"
   ]
  },
  {
   "cell_type": "markdown",
   "id": "e25e1c3b-a50b-4d31-880b-dbd1a67ad1c7",
   "metadata": {},
   "source": [
    "#### 13. How many athletes from each country participated in each Olympic event?"
   ]
  },
  {
   "cell_type": "code",
   "execution_count": null,
   "id": "f998c249-b68b-4b25-a27c-7cb6dd7094b4",
   "metadata": {},
   "outputs": [],
   "source": [
    "participants_country_event = data.groupby(['NOC','Event'])['Name'].nunique().reset_index()\n",
    "participants_country_event.rename(columns={'Name':'Count'}, inplace=True)"
   ]
  },
  {
   "cell_type": "code",
   "execution_count": null,
   "id": "f7ff54b1-e2c1-47ec-bd6d-fac3acabed31",
   "metadata": {},
   "outputs": [],
   "source": [
    "participants_country_event_sorted = participants_country_event.sort_values(by='Count',ascending=False).reset_index(drop=True)\n",
    "participants_country_event_sorted"
   ]
  },
  {
   "cell_type": "markdown",
   "id": "97f6b0e8-59aa-4ace-a9ff-697d3e077c4e",
   "metadata": {},
   "source": [
    "#### 14. How many athletes from each country won medals?"
   ]
  },
  {
   "cell_type": "code",
   "execution_count": null,
   "id": "d4752ac5-c8b2-49af-9fa3-3ba764c9cb3c",
   "metadata": {},
   "outputs": [],
   "source": [
    "medal_winners.reset_index(drop=True,inplace=True)\n",
    "medal_winners.head()"
   ]
  },
  {
   "cell_type": "code",
   "execution_count": null,
   "id": "57c12baf-8c92-4df6-8f1f-d60fe9c3fd2d",
   "metadata": {},
   "outputs": [],
   "source": [
    "Participation_country = medal_winners.groupby('NOC')['Name'].nunique().reset_index()\n",
    "Participation_country.rename(columns={'Name':'Number'}, inplace=True)"
   ]
  },
  {
   "cell_type": "code",
   "execution_count": null,
   "id": "2fc4f64c-2890-4148-9f9a-f41de08aaf9f",
   "metadata": {},
   "outputs": [],
   "source": [
    "Participation_country = Participation_country.sort_values(by='Number',ascending=False).reset_index(drop=True)\n",
    "Participation_country"
   ]
  },
  {
   "cell_type": "markdown",
   "id": "27de0425-97ca-400b-b387-a2a9443e76ea",
   "metadata": {},
   "source": [
    "#### 15. How many gold, silver, and bronze medals were won by each country?"
   ]
  },
  {
   "cell_type": "code",
   "execution_count": null,
   "id": "0f590e58-a07e-4595-9704-25696c23a79c",
   "metadata": {},
   "outputs": [],
   "source": [
    "medal_winners.pivot_table(index='NOC',columns='Medal',values='Name',aggfunc='count',fill_value=0)"
   ]
  },
  {
   "cell_type": "markdown",
   "id": "e54a1e41-e199-4cf9-939d-a7b7ff88c6d2",
   "metadata": {},
   "source": [
    "#### 16.\tWhat is the distribution of medals based on gender?"
   ]
  },
  {
   "cell_type": "code",
   "execution_count": null,
   "id": "00b38570-1289-4579-8b0e-364a9c0b7618",
   "metadata": {},
   "outputs": [],
   "source": [
    "pivot_01 = medal_winners.pivot_table(index='Medal',columns='Sex',values='Name',aggfunc='count')\n",
    "pivot_01"
   ]
  },
  {
   "cell_type": "markdown",
   "id": "4b0fd8e1-7f9a-4a34-b885-bf9a6508a39f",
   "metadata": {},
   "source": [
    "#### 17. How many athletes from each age group won medals?"
   ]
  },
  {
   "cell_type": "code",
   "execution_count": null,
   "id": "79ce2135-b92b-43e5-ae30-ed2f51e15841",
   "metadata": {},
   "outputs": [],
   "source": [
    "age_bins = [0,10,20,30,40,50,60,61]\n",
    "age_labels = ['0-10','11-20','21-30','31-40','41-50','51-60','61+']\n",
    "\n",
    "medal_winners_age_group = medal_winners\n",
    "medal_winners_age_group.head(1)"
   ]
  },
  {
   "cell_type": "code",
   "execution_count": null,
   "id": "1920bd7f-7c58-4ce6-b541-18e85a401b9a",
   "metadata": {},
   "outputs": [],
   "source": [
    "medal_winners_age_group['Age_Group'] = pd.cut(medal_winners_age_group['Age'], bins=age_bins, labels=age_labels)"
   ]
  },
  {
   "cell_type": "code",
   "execution_count": null,
   "id": "bc97d25e-19ae-43b3-ad49-632bba81d5ba",
   "metadata": {},
   "outputs": [],
   "source": [
    "medal_winners_age_group.groupby('Age_Group')['Name'].nunique().reset_index()"
   ]
  },
  {
   "cell_type": "code",
   "execution_count": null,
   "id": "a7e388a1-8885-42e2-8fb6-4875571a0782",
   "metadata": {},
   "outputs": [],
   "source": [
    "medal_winners.drop('Age_Group',axis=1,inplace=True)"
   ]
  },
  {
   "cell_type": "markdown",
   "id": "a924ea18-4dcc-4e1d-be99-17449574a919",
   "metadata": {},
   "source": [
    "#### 18. In which year was the youngest athlete to win a medal?"
   ]
  },
  {
   "cell_type": "code",
   "execution_count": null,
   "id": "9ab22965-aaf6-4981-a033-3d47ff9fc86d",
   "metadata": {},
   "outputs": [],
   "source": [
    "medal_winners.sort_values('Age').reset_index(drop=True).head(1)"
   ]
  },
  {
   "cell_type": "markdown",
   "id": "287c9477-aa84-4c5f-84db-216d197b59b5",
   "metadata": {},
   "source": [
    "#### 19. In which year was the oldest athlete to win a medal?"
   ]
  },
  {
   "cell_type": "code",
   "execution_count": null,
   "id": "bf0b9743-69f1-401d-8796-f513a8921abc",
   "metadata": {},
   "outputs": [],
   "source": [
    "medal_winners.sort_values('Age',ascending=False).reset_index(drop=True).head(1)"
   ]
  },
  {
   "cell_type": "markdown",
   "id": "108295d9-ff81-4b3c-a589-3c2889825cd7",
   "metadata": {},
   "source": [
    "#### 20. How many athletes participated in each Olympic event?"
   ]
  },
  {
   "cell_type": "code",
   "execution_count": null,
   "id": "ee98df1f-2549-424b-abd0-872ce69bd989",
   "metadata": {},
   "outputs": [],
   "source": [
    "participation_total = data.groupby('Event')['Name'].nunique().reset_index()\n",
    "participation_total.sort_values(by='Name',ascending=False, inplace=True)"
   ]
  },
  {
   "cell_type": "code",
   "execution_count": null,
   "id": "2fff73d9-f506-4e42-bfaa-af9669ae6c04",
   "metadata": {},
   "outputs": [],
   "source": [
    "participation_total.reset_index(drop=True,inplace=True)\n",
    "participation_total"
   ]
  },
  {
   "cell_type": "markdown",
   "id": "03fa1236-a7bc-4823-bb32-d039135d440a",
   "metadata": {},
   "source": [
    "#### 21.\tWhat is the average age of athletes in each Olympic event?"
   ]
  },
  {
   "cell_type": "code",
   "execution_count": null,
   "id": "143796a1-5e53-41d0-b8e0-de578048569f",
   "metadata": {},
   "outputs": [],
   "source": [
    "data.pivot_table(index='Event',values='Age',aggfunc='mean')"
   ]
  },
  {
   "cell_type": "markdown",
   "id": "28898d35-956a-4efa-936f-809c29c88fec",
   "metadata": {},
   "source": [
    "#### 22.\tHow many medals were won by athletes in each Olympic event?"
   ]
  },
  {
   "cell_type": "code",
   "execution_count": null,
   "id": "57885136-0ffc-49d5-b2e8-651bd5f1964d",
   "metadata": {},
   "outputs": [],
   "source": [
    "medal_winners.groupby('Event')['Medal'].nunique().reset_index()"
   ]
  },
  {
   "cell_type": "markdown",
   "id": "44331287-b657-4374-8bd5-708e72448e90",
   "metadata": {},
   "source": [
    "#### 23.\tWhat is the distribution of medals based on event?"
   ]
  },
  {
   "cell_type": "code",
   "execution_count": null,
   "id": "6b183887-6d39-44cf-be30-0e92d07e812e",
   "metadata": {},
   "outputs": [],
   "source": [
    "medal_winners.pivot_table(index='Event', columns='Medal', values='Name',aggfunc='count').fillna(0)"
   ]
  },
  {
   "cell_type": "markdown",
   "id": "74963ac9-7641-4f1a-bb8c-aa35a1d0d8dc",
   "metadata": {},
   "source": [
    "#### 24.\tHow many athletes won medals in each event category (e.g., swimming, athletics)?"
   ]
  },
  {
   "cell_type": "code",
   "execution_count": null,
   "id": "49289102-afb8-46c3-a48e-0be4786998f2",
   "metadata": {},
   "outputs": [],
   "source": [
    "medal_winners.groupby('Sport')['Name'].nunique().reset_index()"
   ]
  },
  {
   "cell_type": "markdown",
   "id": "e177543d-35da-44e3-a9a2-b1718042089f",
   "metadata": {},
   "source": [
    "#### 25.\tWhat is the average age of athletes in each event category?"
   ]
  },
  {
   "cell_type": "code",
   "execution_count": null,
   "id": "4ec0c59e-7a73-4915-9d28-19886e86e8ac",
   "metadata": {},
   "outputs": [],
   "source": [
    "data.groupby('Event')['Age'].mean().reset_index()"
   ]
  },
  {
   "cell_type": "markdown",
   "id": "dcb76827-5a6b-4cfc-a827-2c82a8d184fa",
   "metadata": {},
   "source": [
    "#### 26.\tHow many athletes from each country participated in each event category?"
   ]
  },
  {
   "cell_type": "code",
   "execution_count": null,
   "id": "9f8c1c90-29b6-4ae2-b1b0-7959639c0b7f",
   "metadata": {},
   "outputs": [],
   "source": [
    "data.groupby(['NOC','Event'])['Name'].nunique().reset_index(name='Athletes_per_country_event')"
   ]
  },
  {
   "cell_type": "markdown",
   "id": "25c96e78-4226-4899-9271-a3c1bebc25e2",
   "metadata": {},
   "source": [
    "#### 27.\tHow many medals were won by athletes from each country in each event category?"
   ]
  },
  {
   "cell_type": "code",
   "execution_count": null,
   "id": "cd527333-6773-40be-a2eb-63a69cfabaa4",
   "metadata": {},
   "outputs": [],
   "source": [
    "medal_winners.groupby(['NOC','Event'])['Medal'].count().reset_index(name='Medal_winners_country_event')"
   ]
  },
  {
   "cell_type": "markdown",
   "id": "f383d63c-d338-40d6-8681-90c9487daec5",
   "metadata": {},
   "source": [
    "#### 28.\tWhat is the distribution of medals based on country and gender?"
   ]
  },
  {
   "cell_type": "code",
   "execution_count": null,
   "id": "72434529-ac46-4ca8-96c3-6546bda9c85c",
   "metadata": {},
   "outputs": [],
   "source": [
    "medal_winners.pivot_table(index='NOC',columns='Sex',values='Medal',aggfunc='count').fillna(0)"
   ]
  },
  {
   "cell_type": "markdown",
   "id": "0181bed6-ccd5-447b-ab05-01da5ae2e7ca",
   "metadata": {},
   "source": [
    "#### 29.\tHow many unique athletes are there in the dataset?"
   ]
  },
  {
   "cell_type": "code",
   "execution_count": null,
   "id": "5d676e42-d59d-4b6f-b0ab-8bc1f7b38890",
   "metadata": {},
   "outputs": [],
   "source": [
    "data['Name'].nunique()"
   ]
  },
  {
   "cell_type": "markdown",
   "id": "f34d9125-0ae3-4b3d-ae6c-79328d46000d",
   "metadata": {},
   "source": [
    "#### 30.\tHow many athletes won multiple medals?"
   ]
  },
  {
   "cell_type": "code",
   "execution_count": null,
   "id": "381c079f-e780-4fe8-805e-735853ac3e4a",
   "metadata": {},
   "outputs": [],
   "source": [
    "medal_winners_count_name_medal = medal_winners.groupby('Name')['Medal'].count()\n",
    "medal_winners_count_name_medal.reset_index()"
   ]
  },
  {
   "cell_type": "code",
   "execution_count": null,
   "id": "df914737-33e7-47ab-adc4-a1d1dfb795f0",
   "metadata": {},
   "outputs": [],
   "source": [
    "medal_winners_count_name_medal = medal_winners.groupby('Name')['Medal'].count()\n",
    "medal_winners_count_name_medal"
   ]
  },
  {
   "cell_type": "code",
   "execution_count": null,
   "id": "35df3017-086d-4802-bb91-6feb208720f7",
   "metadata": {},
   "outputs": [],
   "source": [
    "multiple_medal_winners_name = medal_winners_count_name_medal[medal_winners_count_name_medal > 1].reset_index()\n",
    "multiple_medal_winners_name"
   ]
  },
  {
   "cell_type": "markdown",
   "id": "c1f3317a-2a0e-411b-ba9f-69be32e4fed8",
   "metadata": {},
   "source": [
    "#### 31.\tHow many athletes participated in multiple Olympic events?"
   ]
  },
  {
   "cell_type": "code",
   "execution_count": null,
   "id": "fd8775ce-c097-4339-ac20-ff1fea684657",
   "metadata": {},
   "outputs": [],
   "source": [
    "event_athlete_count = data.groupby(['Name'])['Event'].nunique()\n",
    "multi_event_athletes = event_athlete_count[event_athlete_count > 1]\n",
    "multi_event_athletes.sort_values(ascending=False).reset_index()"
   ]
  },
  {
   "cell_type": "markdown",
   "id": "71afc685-0ef1-4e5e-befc-a39e0b3f8058",
   "metadata": {},
   "source": [
    "#### 32.\tWhat is the gender distribution for athletes participating in multiple events?"
   ]
  },
  {
   "cell_type": "code",
   "execution_count": null,
   "id": "88a6a4d0-a0c1-49fb-a28a-6daf8096ec0d",
   "metadata": {},
   "outputs": [],
   "source": [
    "gender_distribution_multiple_events = data.groupby(['Name','Sex'])['Event'].nunique()"
   ]
  },
  {
   "cell_type": "code",
   "execution_count": null,
   "id": "be42f963-1bcf-4b60-812b-39841336b770",
   "metadata": {},
   "outputs": [],
   "source": [
    "multiple_event_gender = gender_distribution_multiple_events[gender_distribution_multiple_events > 1]\n",
    "multiple_event_gender = multiple_event_gender.reset_index()\n",
    "multiple_event_gender['Sex'].value_counts().reset_index()"
   ]
  },
  {
   "cell_type": "markdown",
   "id": "5f2a7f62-d0cc-4777-8e10-e98e4c73bacf",
   "metadata": {},
   "source": [
    "#### 33.\tHow many athletes won medals in multiple events?"
   ]
  },
  {
   "cell_type": "code",
   "execution_count": null,
   "id": "75759d79-a4ca-4504-8c41-bbd049cb56a3",
   "metadata": {},
   "outputs": [],
   "source": [
    "multi_event_athlete_winners = medal_winners.groupby(['Name'])['Event'].nunique()\n",
    "multi_event_winners_count = multi_event_athlete_winners[multi_event_athlete_winners > 1]\n",
    "multi_event_winners_count = multi_event_winners_count.sort_values(ascending=False).reset_index()\n",
    "multi_event_winners_count"
   ]
  },
  {
   "cell_type": "markdown",
   "id": "e9d5dcb7-a9a1-46e5-b1a6-a150577e5b72",
   "metadata": {},
   "source": [
    "#### 34.\tWhat is the average age of athletes who won medals in multiple events?"
   ]
  },
  {
   "cell_type": "code",
   "execution_count": null,
   "id": "52f068ec-6d77-4949-a481-65f83f2e4642",
   "metadata": {},
   "outputs": [],
   "source": [
    "multi_event_winners_count_avg_age = medal_winners.groupby(['Event'])['Age'].mean()\n",
    "multi_event_winners_count = multi_event_athlete_winners[multi_event_athlete_winners > 1]\n",
    "multi_event_winners_count = multi_event_winners_count.sort_values(ascending=False).reset_index()\n",
    "multi_event_winners_count"
   ]
  },
  {
   "cell_type": "markdown",
   "id": "7fd0bf0f-ad4c-4517-b3a0-7f354db39176",
   "metadata": {},
   "source": [
    "#### 35.\tHow many medals were won by male athletes in each event category?"
   ]
  },
  {
   "cell_type": "code",
   "execution_count": null,
   "id": "c0ec5a02-bfa0-4d12-a8c5-a53d242ee104",
   "metadata": {},
   "outputs": [],
   "source": [
    "medal_winners[medal_winners['Sex']=='M'].groupby(['Sport'])['Medal'].count().reset_index()"
   ]
  },
  {
   "cell_type": "markdown",
   "id": "1914f2c7-b7bb-4b30-90c2-aae3193a15f9",
   "metadata": {},
   "source": [
    "#### 36.\tHow many medals were won by female athletes in each event category?"
   ]
  },
  {
   "cell_type": "code",
   "execution_count": null,
   "id": "ebc8b2a1-fbb9-4ad6-b255-6da81f42b192",
   "metadata": {},
   "outputs": [],
   "source": [
    "medal_winners[medal_winners['Sex']=='F'].groupby(['Sport'])['Medal'].count().reset_index()"
   ]
  },
  {
   "cell_type": "markdown",
   "id": "298b5446-d98c-4aa6-88f7-3862d5e427bc",
   "metadata": {},
   "source": [
    "#### 37.\tHow many athletes won medals in each event category by year?"
   ]
  },
  {
   "cell_type": "code",
   "execution_count": null,
   "id": "3099e886-0d50-42e3-8e9a-9d47daddf304",
   "metadata": {},
   "outputs": [],
   "source": [
    "medal_winners['Year_bin'] = pd.cut(medal_winners['Year'], bins=[1896,1920,1940,1960,1980,2000,2001], labels=['<1920','1921-40','1941-60','1961-80','1981-00','01-20'])\n",
    "medal_winners.pivot_table(index='Sport',columns='Year_bin',values='Name',aggfunc='nunique')"
   ]
  },
  {
   "cell_type": "markdown",
   "id": "6e092f9f-40c5-4562-975d-b935b3f4c0db",
   "metadata": {},
   "source": [
    "#### 38.\tWhat is the age distribution of athletes for each event category?"
   ]
  },
  {
   "cell_type": "code",
   "execution_count": null,
   "id": "b5ef5ce3-0b1a-4688-af5b-83e0ee002647",
   "metadata": {},
   "outputs": [],
   "source": [
    "temp_df = data.copy()\n",
    "\n",
    "age_bins = [0,10,20,30,40,50,60,61]\n",
    "age_labels = ['0-10','11-20','21-30','31-40','41-50','51-60','61']\n",
    "\n",
    "temp_df['Age_group'] = pd.cut(temp_df['Age'], bins=age_bins, labels=age_labels)"
   ]
  },
  {
   "cell_type": "code",
   "execution_count": null,
   "id": "5e752857-046a-4354-8a24-7259b459b259",
   "metadata": {},
   "outputs": [],
   "source": [
    "pd.pivot_table(\n",
    "    temp_df,\n",
    "    index='Event',\n",
    "    columns='Age_group',\n",
    "    values='Name',\n",
    "    aggfunc='nunique'\n",
    ")"
   ]
  },
  {
   "cell_type": "markdown",
   "id": "0466c220-a6f9-4ea3-9bdf-35ce9f9904c1",
   "metadata": {},
   "source": [
    "#### 39.\tHow many medals were won by male athletes in each event by year?"
   ]
  },
  {
   "cell_type": "code",
   "execution_count": null,
   "id": "e9d00118-940d-45c3-a1d7-23ab0548f8b7",
   "metadata": {},
   "outputs": [],
   "source": [
    "medal_winners[(medal_winners['Sex']=='M')]\n",
    "medal_winners.pivot_table(index='Event',columns='Year',values='Medal',aggfunc='count').fillna('0')"
   ]
  },
  {
   "cell_type": "markdown",
   "id": "2c06ba76-af3c-4d7d-9941-62b8089e9af2",
   "metadata": {},
   "source": [
    "#### 40.\tHow many medals were won by female athletes in each event by year?"
   ]
  },
  {
   "cell_type": "code",
   "execution_count": null,
   "id": "bf836660-b88e-4db1-a6e4-5a3b1e66c176",
   "metadata": {},
   "outputs": [],
   "source": [
    "female_medal_winners = medal_winners[medal_winners['Sex'] == 'F']\n",
    "female_medal_winners.pivot_table(index='Event',columns='Year',values='Medal',aggfunc='count').fillna(0)"
   ]
  },
  {
   "cell_type": "markdown",
   "id": "48935e67-4f4c-4f4f-8034-200714208e26",
   "metadata": {},
   "source": [
    "#### 41.\tHow many medals were won by athletes of different ages in each event category?"
   ]
  },
  {
   "cell_type": "code",
   "execution_count": null,
   "id": "c118e727-cce6-4d93-802e-dcf130d08538",
   "metadata": {},
   "outputs": [],
   "source": [
    "medal_winners.groupby(['Event','Age'])['Medal'].count().reset_index(name='Medal_Count')"
   ]
  },
  {
   "cell_type": "markdown",
   "id": "ddf7cc9e-9515-4de3-a880-a020ee3d9a5c",
   "metadata": {},
   "source": [
    "#### 42.\tWhat is the distribution of medals based on city and gender?"
   ]
  },
  {
   "cell_type": "code",
   "execution_count": null,
   "id": "93e7b8f3-9c72-4e77-a792-c0fbf72c7be8",
   "metadata": {},
   "outputs": [],
   "source": [
    "medal_winners.pivot_table(index='City',columns='Sex',values='Medal',aggfunc='count')"
   ]
  },
  {
   "cell_type": "markdown",
   "id": "99ddae1f-1687-41e5-9590-f4c8837fad16",
   "metadata": {},
   "source": [
    "#### 43.\tHow many athletes participated in each Olympic event in each city?"
   ]
  },
  {
   "cell_type": "code",
   "execution_count": null,
   "id": "5802025b-aeea-4095-9b04-0e09e48cd574",
   "metadata": {},
   "outputs": [],
   "source": [
    "data.pivot_table(index='Event',columns='City',values='Name',aggfunc='nunique').fillna(0)"
   ]
  },
  {
   "cell_type": "markdown",
   "id": "17ff8a95-6624-4537-99c5-95b478725ada",
   "metadata": {},
   "source": [
    "#### 44.\tWhat is the average age of athletes in each Olympic event in each city?"
   ]
  },
  {
   "cell_type": "code",
   "execution_count": null,
   "id": "982ce831-8dc2-4dbf-b3b2-0695bad44b55",
   "metadata": {},
   "outputs": [],
   "source": [
    "data.pivot_table(index='Event',columns='City',values='Age',aggfunc='mean').fillna(0).round(0).astype(int)"
   ]
  },
  {
   "cell_type": "markdown",
   "id": "3213b83a-3453-4fbf-a376-5b0826b935a8",
   "metadata": {},
   "source": [
    "#### 45.\tHow many medals were won by athletes in each Olympic event in each city?"
   ]
  },
  {
   "cell_type": "code",
   "execution_count": null,
   "id": "c379647d-fe42-4f82-8b20-cf8910878b74",
   "metadata": {},
   "outputs": [],
   "source": [
    "medal_winners.pivot_table(index='Event',columns='City',values='Name',aggfunc='count').fillna(0)"
   ]
  },
  {
   "cell_type": "markdown",
   "id": "f69092e8-5ae0-4d6d-b585-1bab831e3ab4",
   "metadata": {},
   "source": [
    "#### 46.\tWhat is the gender distribution of athletes in each Olympic event in each city?"
   ]
  },
  {
   "cell_type": "code",
   "execution_count": null,
   "id": "4a5dc32c-55b1-41d3-a39c-bd50e61027bd",
   "metadata": {},
   "outputs": [],
   "source": [
    "pd.crosstab(index=[data['Event'],data['City']], columns=data['Sex'])"
   ]
  },
  {
   "cell_type": "markdown",
   "id": "e22cbe40-4853-41f7-9ce6-bb9ae9ab0288",
   "metadata": {},
   "source": [
    "#### 47.\tHow many medals were won by male athletes in each Olympic event in each city?"
   ]
  },
  {
   "cell_type": "code",
   "execution_count": null,
   "id": "75843282-0dc4-4097-90b5-24fb7352ddb7",
   "metadata": {},
   "outputs": [],
   "source": [
    "male_winners_event_city = medal_winners[medal_winners['Sex'] == 'M']\n",
    "\n",
    "pd.crosstab(\n",
    "    index = male_winners_event_city['Event'],\n",
    "    columns = male_winners_event_city['City'],\n",
    "    values = male_winners_event_city['Name'],\n",
    "    aggfunc =['nunique']\n",
    ").fillna(0)"
   ]
  },
  {
   "cell_type": "markdown",
   "id": "8a845e57-4c4d-4442-8a71-759299694607",
   "metadata": {},
   "source": [
    "#### 48.\tHow many medals were won by female athletes in each Olympic event in each city?"
   ]
  },
  {
   "cell_type": "code",
   "execution_count": null,
   "id": "65c108fd-0a81-4e4f-ba8d-ae7aa9e6e4d5",
   "metadata": {},
   "outputs": [],
   "source": [
    "female_winners_event_city = medal_winners[medal_winners['Sex'] == 'F']\n",
    "\n",
    "pd.crosstab(\n",
    "    index = female_winners_event_city['Event'],\n",
    "    columns = female_winners_event_city['City'],\n",
    "    values = female_winners_event_city['Name'],\n",
    "    aggfunc =['nunique']\n",
    ").fillna(0)"
   ]
  },
  {
   "cell_type": "markdown",
   "id": "cd0afbc2-b1c3-49bc-b7c6-991a8d8d5453",
   "metadata": {},
   "source": [
    "#### 49.\tHow many athletes from each country won gold, silver, and bronze medals?"
   ]
  },
  {
   "cell_type": "code",
   "execution_count": null,
   "id": "dd9e8ba2-f4bf-4c69-ac04-267382789950",
   "metadata": {},
   "outputs": [],
   "source": [
    "medal_winners.drop('Year_bin', axis=1, inplace=True)"
   ]
  },
  {
   "cell_type": "code",
   "execution_count": null,
   "id": "27cf6f7b-9feb-49fd-acea-fdbff3c9eb50",
   "metadata": {},
   "outputs": [],
   "source": [
    "pd.crosstab(\n",
    "    index = medal_winners['NOC'],\n",
    "    columns = medal_winners['Medal'],\n",
    "    values = medal_winners['Name'],\n",
    "    aggfunc = ['nunique']\n",
    ").fillna(0)"
   ]
  },
  {
   "cell_type": "markdown",
   "id": "0c068ea9-4a97-48ee-90d5-aff61be3357a",
   "metadata": {},
   "source": [
    "#### 50.\t How many athletes from each country participated in each Olympic year?"
   ]
  },
  {
   "cell_type": "code",
   "execution_count": null,
   "id": "6b9f4cfb-130f-485a-9d0f-7c455da9a7df",
   "metadata": {},
   "outputs": [],
   "source": [
    "pd.crosstab(\n",
    "    index = data['NOC'],\n",
    "    columns = data['Year'],\n",
    "    values = data['Name'],\n",
    "    aggfunc = ['nunique']\n",
    ").fillna(0).astype(int)"
   ]
  },
  {
   "cell_type": "markdown",
   "id": "a3e1ecaf-1eb3-4677-93ad-bfac38c97a82",
   "metadata": {},
   "source": [
    "#### 51.\tWhat is the distribution of medals based on country and age group?"
   ]
  },
  {
   "cell_type": "code",
   "execution_count": null,
   "id": "e0b05aa9-db5e-4088-906a-e70aedd7c535",
   "metadata": {},
   "outputs": [],
   "source": [
    "age_bins"
   ]
  },
  {
   "cell_type": "code",
   "execution_count": null,
   "id": "5e85d047-0ab1-44e3-a69a-307964d71519",
   "metadata": {},
   "outputs": [],
   "source": [
    "age_labels"
   ]
  },
  {
   "cell_type": "code",
   "execution_count": null,
   "id": "8c90e5af-bd7e-4970-be36-6661979fc31e",
   "metadata": {},
   "outputs": [],
   "source": [
    "temp_df = medal_winners.copy()\n",
    "temp_df['Age_group'] = pd.cut(temp_df['Age'], bins=age_bins, labels=age_labels)"
   ]
  },
  {
   "cell_type": "code",
   "execution_count": null,
   "id": "0d45aca3-e91f-4224-b849-5cafdc805261",
   "metadata": {},
   "outputs": [],
   "source": [
    "pd.crosstab(\n",
    "    index = temp_df['NOC'],\n",
    "    columns = temp_df['Age_group'],\n",
    ").fillna(0).astype(int)"
   ]
  },
  {
   "cell_type": "markdown",
   "id": "8158decc-a375-4fba-8c4d-12d5817b289a",
   "metadata": {},
   "source": [
    "#### 52.\tHow many athletes won medals in each event by country?"
   ]
  },
  {
   "cell_type": "code",
   "execution_count": null,
   "id": "82e21d20-1b1a-4015-a154-41c8bc32ffb2",
   "metadata": {},
   "outputs": [],
   "source": [
    "medal_winners.pivot_table(\n",
    "    \n",
    "    index = ['Event'],\n",
    "    columns = ['NOC'],\n",
    "    values = ['Name'],\n",
    "    aggfunc = 'nunique'\n",
    "    \n",
    ").fillna(0).astype(int)"
   ]
  },
  {
   "cell_type": "markdown",
   "id": "b98389cc-3cce-4453-a92a-a458bd778028",
   "metadata": {},
   "source": [
    "#### 53.\tWhat is the average age of athletes from each country?"
   ]
  },
  {
   "cell_type": "code",
   "execution_count": null,
   "id": "c098d956-ad6f-4a65-88da-25bed29e6afc",
   "metadata": {},
   "outputs": [],
   "source": [
    "pd.crosstab(\n",
    "    \n",
    "    index = data['NOC'],\n",
    "    columns = data['Age'],\n",
    "    values = data['Age'],\n",
    "    aggfunc ='mean'\n",
    "    \n",
    ").fillna(0).round(0)"
   ]
  },
  {
   "cell_type": "markdown",
   "id": "f5f97322-9a73-437e-967d-ba76902e2cd4",
   "metadata": {},
   "source": [
    "#### 54.\tHow many medals were won by athletes from each country by gender?"
   ]
  },
  {
   "cell_type": "code",
   "execution_count": null,
   "id": "7912f366-9669-4a8a-a55a-437cfd967552",
   "metadata": {},
   "outputs": [],
   "source": [
    "pd.crosstab(\n",
    "    \n",
    "    index = medal_winners['NOC'],\n",
    "    columns = medal_winners['Sex'],\n",
    "    values = medal_winners['Name'],\n",
    "    aggfunc ='nunique'\n",
    "    \n",
    ").fillna(0).astype(int)"
   ]
  },
  {
   "cell_type": "markdown",
   "id": "985f47fa-d124-4d22-9b28-6d0a366c336c",
   "metadata": {},
   "source": [
    "#### 55.\tHow many countries participated in each Olympic event?"
   ]
  },
  {
   "cell_type": "code",
   "execution_count": null,
   "id": "f96bb4da-5329-438d-8c86-f135189b6336",
   "metadata": {},
   "outputs": [],
   "source": [
    "data.groupby(['Event'])['NOC'].nunique().reset_index(name= 'Countries_participated')"
   ]
  },
  {
   "cell_type": "markdown",
   "id": "6afe0378-f084-429a-b75f-3ad74d98858a",
   "metadata": {},
   "source": [
    "#### 56.\tWhat is the average age of athletes in each Olympic event by gender?"
   ]
  },
  {
   "cell_type": "code",
   "execution_count": null,
   "id": "97fde16a-73a7-496f-b014-181c49fe24fb",
   "metadata": {},
   "outputs": [],
   "source": [
    "pd.crosstab(\n",
    "    \n",
    "    index = data['Event'],\n",
    "    columns = data['Sex'],\n",
    "    values = data['Age'],\n",
    "    aggfunc = ['mean']\n",
    "    \n",
    ").fillna(0).round(1)"
   ]
  },
  {
   "cell_type": "markdown",
   "id": "86d5ccfb-1392-42a7-bcf0-94af91d2c6b5",
   "metadata": {},
   "source": [
    "#### 57.\tHow many medals were won by athletes in each Olympic event by gender?"
   ]
  },
  {
   "cell_type": "code",
   "execution_count": null,
   "id": "884d119a-9c5e-49c7-aac7-8997edbb3c83",
   "metadata": {},
   "outputs": [],
   "source": [
    "medal_winners.pivot_table(\n",
    "    \n",
    "    index = ['Event'],\n",
    "    columns = ['Sex'],\n",
    "    values = ['Name'],\n",
    "    aggfunc ='nunique'\n",
    "    \n",
    ").fillna(0).astype(int)"
   ]
  },
  {
   "cell_type": "markdown",
   "id": "2e704681-3c02-4366-b6b4-dc2df02466b8",
   "metadata": {},
   "source": [
    "#### 58.\tWhat is the distribution of medals based on event and age group?"
   ]
  },
  {
   "cell_type": "code",
   "execution_count": null,
   "id": "f74f07ee-994c-473a-ad22-4678b0532c3e",
   "metadata": {},
   "outputs": [],
   "source": [
    "age_bins"
   ]
  },
  {
   "cell_type": "code",
   "execution_count": null,
   "id": "1bfecee0-9b3a-4391-97e8-80414c09d7b2",
   "metadata": {},
   "outputs": [],
   "source": [
    "age_labels"
   ]
  },
  {
   "cell_type": "code",
   "execution_count": null,
   "id": "dbe77359-5c3c-4d37-9b70-2550de9ac838",
   "metadata": {},
   "outputs": [],
   "source": [
    "pd.crosstab(\n",
    "    index=temp_df['Event'],\n",
    "    columns=temp_df['Age_group']\n",
    ").fillna(0).astype(int)"
   ]
  },
  {
   "cell_type": "markdown",
   "id": "06e8c8ee-0541-4a03-88be-c050cbe56e16",
   "metadata": {},
   "source": [
    "#### 59.\tHow many athletes won medals in each event category by gender?"
   ]
  },
  {
   "cell_type": "code",
   "execution_count": null,
   "id": "fdcc58a6-d409-44fa-949c-e7e67ef6cd92",
   "metadata": {},
   "outputs": [],
   "source": [
    "pd.crosstab(\n",
    "    \n",
    "    index=medal_winners['Event'],\n",
    "    columns=medal_winners['Sex'],\n",
    "    values=medal_winners['Name'],\n",
    "    aggfunc='nunique'\n",
    ").fillna(0).astype(int)"
   ]
  },
  {
   "cell_type": "markdown",
   "id": "3be15522-3130-4f4d-a094-d1fd1212d824",
   "metadata": {},
   "source": [
    "#### 60.\tWhat is the average age of male and female athletes in each event category?"
   ]
  },
  {
   "cell_type": "code",
   "execution_count": null,
   "id": "2fa26ca2-d97d-40b7-a5f7-fc778699d1f7",
   "metadata": {},
   "outputs": [],
   "source": [
    "pd.crosstab(\n",
    "    \n",
    "    index=data['Event'],\n",
    "    columns=data['Sex'],\n",
    "    values=data['Age'],\n",
    "    aggfunc='mean'\n",
    ").fillna(0).round(1)"
   ]
  },
  {
   "cell_type": "markdown",
   "id": "87137e70-0b4f-4481-9d0f-c51d320e0661",
   "metadata": {},
   "source": [
    "#### 61.\tHow many medals were won by athletes from each gender in each event category?"
   ]
  },
  {
   "cell_type": "code",
   "execution_count": null,
   "id": "c8ded421-e20a-4b15-81f2-7e7271d797c8",
   "metadata": {},
   "outputs": [],
   "source": [
    "pd.crosstab(\n",
    "    \n",
    "    index=medal_winners['Event'],\n",
    "    columns=medal_winners['Sex'],\n",
    "    values=medal_winners['Name'],\n",
    "    aggfunc='nunique'\n",
    ").fillna(0).astype(int)"
   ]
  },
  {
   "cell_type": "markdown",
   "id": "f2444784-d247-4c2c-8154-afffb25b97aa",
   "metadata": {},
   "source": [
    "#### 62.\tHow many unique athletes participated in each Olympic event by gender?"
   ]
  },
  {
   "cell_type": "code",
   "execution_count": null,
   "id": "97f68207-d4cb-40e6-b6f5-4a45561432b5",
   "metadata": {},
   "outputs": [],
   "source": [
    "pd.crosstab(\n",
    "    \n",
    "    index=data['Event'],\n",
    "    columns=data['Sex'],\n",
    "    values=data['Name'],\n",
    "    aggfunc='nunique'\n",
    ").fillna(0).astype(int).rename(columns={'M':'Male','F':'Female'})"
   ]
  },
  {
   "cell_type": "markdown",
   "id": "1d091856-2370-462f-a1e1-47c7fe40bcaf",
   "metadata": {},
   "source": [
    "#### 63.\tHow many athletes won multiple medals in each event category?"
   ]
  },
  {
   "cell_type": "code",
   "execution_count": null,
   "id": "718dafe3-668e-4044-bde8-0865608ee6f0",
   "metadata": {},
   "outputs": [],
   "source": [
    "medal_winners_count = medal_winners.groupby(['Name'])['Medal'].count()"
   ]
  },
  {
   "cell_type": "code",
   "execution_count": null,
   "id": "331ebe46-df8a-48d6-bcd3-dba48e63d28a",
   "metadata": {},
   "outputs": [],
   "source": [
    "multi_medal_athletes = medal_winners_count[medal_winners_count > 1]\n",
    "multi_medal_athletes = multi_medal_athletes.reset_index()\n",
    "multi_medal_athletes"
   ]
  },
  {
   "cell_type": "code",
   "execution_count": null,
   "id": "63b22138-b679-4eb6-8291-180976d35f7d",
   "metadata": {},
   "outputs": [],
   "source": [
    "multi_medal_winners = medal_winners[medal_winners['Name'].isin(multi_medal_athletes['Name'])]\n",
    "multi_medal_winners"
   ]
  },
  {
   "cell_type": "code",
   "execution_count": null,
   "id": "026c773a-85db-4e50-9527-79e19f9f3ffe",
   "metadata": {},
   "outputs": [],
   "source": [
    "multi_medal_winners.groupby(['Event'])['Name'].nunique().reset_index()"
   ]
  },
  {
   "cell_type": "markdown",
   "id": "0fc551a3-e1ad-4119-a620-05e95620456b",
   "metadata": {},
   "source": [
    "#### 64.\tWhat is the age distribution of male and female athletes in each event category?"
   ]
  },
  {
   "cell_type": "code",
   "execution_count": null,
   "id": "1e213c75-3ac9-404d-82ad-53aea1b3f63c",
   "metadata": {},
   "outputs": [],
   "source": [
    "age_bins = [0,10,20,30,40,50,60,61]\n",
    "age_labels = ['0-10','11-20','21-30','31-40','41-50','51-60','61+']"
   ]
  },
  {
   "cell_type": "code",
   "execution_count": null,
   "id": "b6cb340f-cc65-4889-afd1-90e75e968a13",
   "metadata": {},
   "outputs": [],
   "source": [
    "temp_df = data.copy()\n",
    "temp_df['Age_group'] = pd.cut(temp_df['Age'], bins=age_bins, labels=age_labels)\n",
    "temp_df.head(1)"
   ]
  },
  {
   "cell_type": "code",
   "execution_count": null,
   "id": "fcd40eef-7cce-46ff-8b7a-3d6ffc70f74c",
   "metadata": {},
   "outputs": [],
   "source": [
    "pd.crosstab(\n",
    "    index = temp_df['Event'],\n",
    "    columns = [temp_df['Sex'], temp_df['Age_group']],\n",
    "    values = temp_df['Name'],\n",
    "    aggfunc = 'nunique'\n",
    ").fillna(0).astype(int)"
   ]
  },
  {
   "cell_type": "markdown",
   "id": "bca38771-00ce-49ad-b05e-1f06320c75de",
   "metadata": {},
   "source": [
    "#### 65.\tHow many medals were won by athletes from each country in each event category by gender?"
   ]
  },
  {
   "cell_type": "code",
   "execution_count": null,
   "id": "8eb406e1-524f-4b36-9b5c-0d7fcc9ee5fa",
   "metadata": {},
   "outputs": [],
   "source": [
    "pd.crosstab(\n",
    "    index=[medal_winners['Event'], medal_winners['NOC']],\n",
    "    columns=medal_winners['Sex'],\n",
    "    values=medal_winners['Medal'],\n",
    "    aggfunc='count'\n",
    ").fillna(0).astype(int)"
   ]
  },
  {
   "cell_type": "markdown",
   "id": "debf70b8-6e16-43d1-a22a-0219b92ff742",
   "metadata": {},
   "source": [
    "#### 66.\tHow many athletes won medals in each event category by country and gender?"
   ]
  },
  {
   "cell_type": "code",
   "execution_count": null,
   "id": "5ffcab6c-bc48-450b-9d22-554d7e3bdf5d",
   "metadata": {},
   "outputs": [],
   "source": [
    "pd.crosstab(\n",
    "    index=[medal_winners['Event'],medal_winners['NOC']],\n",
    "    columns=medal_winners['Sex'],\n",
    "    values=medal_winners['Name'],\n",
    "    aggfunc='nunique'\n",
    ").fillna(0).astype(int)"
   ]
  },
  {
   "cell_type": "markdown",
   "id": "af738895-146f-4f7b-8494-e872f9a6c62c",
   "metadata": {},
   "source": [
    "#### 67.\tWhat is the average age of athletes who won medals in each event by country?"
   ]
  },
  {
   "cell_type": "code",
   "execution_count": null,
   "id": "56fef476-3f84-40dd-9721-d125e0f9295c",
   "metadata": {},
   "outputs": [],
   "source": [
    "pd.crosstab(\n",
    "    index=[medal_winners['Event'], medal_winners['NOC']],\n",
    "    columns='Avg age',\n",
    "    values=medal_winners['Age'],\n",
    "    aggfunc='mean'\n",
    ").round(1)"
   ]
  },
  {
   "cell_type": "markdown",
   "id": "77504f75-ef27-4bb0-9421-9a9f2e50df9e",
   "metadata": {},
   "source": [
    "#### 68.\tHow many medals were won by male and female athletes in each event by country?"
   ]
  },
  {
   "cell_type": "code",
   "execution_count": null,
   "id": "79dcb31b-b6a0-4c80-a817-13b6b0ef8663",
   "metadata": {},
   "outputs": [],
   "source": [
    "pd.crosstab(\n",
    "    index=[medal_winners['Event'],medal_winners['NOC']],\n",
    "    columns=medal_winners['Sex'],\n",
    "    values=medal_winners['Medal'],\n",
    "    aggfunc='count'\n",
    ").fillna(0).astype(int)"
   ]
  },
  {
   "cell_type": "markdown",
   "id": "41d9899b-3bbf-4a1a-ae58-b02ed5956672",
   "metadata": {},
   "source": [
    "#### 69.\tHow many athletes from each age group participated in each Olympic event?"
   ]
  },
  {
   "cell_type": "code",
   "execution_count": null,
   "id": "e277fd52-d6a1-4a6c-88ea-1ee451484f12",
   "metadata": {},
   "outputs": [],
   "source": [
    "age_bins"
   ]
  },
  {
   "cell_type": "code",
   "execution_count": null,
   "id": "d3f9ff61-db1b-486b-a861-14ba68004c5a",
   "metadata": {},
   "outputs": [],
   "source": [
    "age_labels"
   ]
  },
  {
   "cell_type": "code",
   "execution_count": null,
   "id": "b0743e26-a090-44df-8080-11562cc59c14",
   "metadata": {},
   "outputs": [],
   "source": [
    "temp_df = data.copy()"
   ]
  },
  {
   "cell_type": "code",
   "execution_count": null,
   "id": "517f4b19-71c7-41ed-b54b-dd47adeebf78",
   "metadata": {},
   "outputs": [],
   "source": [
    "temp_df['age_bin'] = pd.cut(temp_df['Age'], bins=age_bins, labels=age_labels)"
   ]
  },
  {
   "cell_type": "code",
   "execution_count": null,
   "id": "635e060f-dc96-4fc4-9e5f-9d2479e4552c",
   "metadata": {},
   "outputs": [],
   "source": [
    "pd.crosstab(\n",
    "    index=temp_df['Event'],\n",
    "    columns=temp_df['age_bin'],\n",
    "    values=temp_df['Name'],\n",
    "    aggfunc='nunique'\n",
    ").fillna(0)"
   ]
  },
  {
   "cell_type": "markdown",
   "id": "291d23d9-a29f-4c20-a54c-25ceab1cc34b",
   "metadata": {},
   "source": [
    "#### 70.\tWhat is the average age of athletes from each age group in each Olympic event?"
   ]
  },
  {
   "cell_type": "code",
   "execution_count": null,
   "id": "77c9a041-b40e-45d6-a12a-daffa21b288d",
   "metadata": {},
   "outputs": [],
   "source": [
    "pd.crosstab(\n",
    "    index=temp_df['Event'],\n",
    "    columns=temp_df['age_bin'],\n",
    "    values=temp_df['Age'],\n",
    "    aggfunc='mean'\n",
    ").fillna(0).round(1)"
   ]
  },
  {
   "cell_type": "markdown",
   "id": "11c4e1dc-6212-4400-a5e6-068609419f0a",
   "metadata": {},
   "source": [
    "#### 71.\tHow many medals were won by athletes from each age group in each Olympic event?"
   ]
  },
  {
   "cell_type": "code",
   "execution_count": null,
   "id": "008b39d1-b385-4728-9d63-22f22f414fff",
   "metadata": {},
   "outputs": [],
   "source": [
    "temp_df_only_medalists = medal_winners.copy()\n",
    "temp_df_only_medalists['age_bin'] = pd.cut(temp_df['Age'], bins=age_bins, labels=age_labels)"
   ]
  },
  {
   "cell_type": "code",
   "execution_count": null,
   "id": "894310a2-ed35-49cc-8f2c-122c807908c4",
   "metadata": {},
   "outputs": [],
   "source": [
    "pd.crosstab(\n",
    "    index=temp_df_only_medalists['Event'],\n",
    "    columns=temp_df_only_medalists['age_bin'],\n",
    "    values=temp_df_only_medalists['Medal'],\n",
    "    aggfunc='count'\n",
    ")"
   ]
  },
  {
   "cell_type": "markdown",
   "id": "c219d745-216f-4891-a1fb-1101d32aa1f5",
   "metadata": {},
   "source": [
    "#### 72.\tWhat is the gender distribution of athletes from each age group in each Olympic event?"
   ]
  },
  {
   "cell_type": "code",
   "execution_count": null,
   "id": "12bf7bf2-735c-4184-8765-13018f7295d3",
   "metadata": {},
   "outputs": [],
   "source": [
    "pd.crosstab(\n",
    "    index=[temp_df['Event'],temp_df['Sex']],\n",
    "    columns=temp_df['age_bin'],\n",
    "    values=temp_df['Name'],\n",
    "    aggfunc='nunique'\n",
    ")"
   ]
  },
  {
   "cell_type": "markdown",
   "id": "863dfd86-bbaa-4153-a47d-62e0eb4b1c4f",
   "metadata": {},
   "source": [
    "#### 73.\tHow many medals were won by male and female athletes from each age group in each Olympic event?"
   ]
  },
  {
   "cell_type": "code",
   "execution_count": null,
   "id": "38c35252-7825-4086-a463-2a9b99c9f341",
   "metadata": {},
   "outputs": [],
   "source": [
    "pd.crosstab(\n",
    "    index=temp_df_only_medalists['Event'],\n",
    "    columns=[temp_df_only_medalists['age_bin'],temp_df['Sex']],\n",
    "    values=temp_df_only_medalists['Medal'],\n",
    "    aggfunc='count'\n",
    ")"
   ]
  },
  {
   "cell_type": "code",
   "execution_count": null,
   "id": "3ee0cc15-8acc-4e76-9ea7-946a3c7fc2fe",
   "metadata": {},
   "outputs": [],
   "source": []
  }
 ],
 "metadata": {
  "kernelspec": {
   "display_name": "Python 3 (ipykernel)",
   "language": "python",
   "name": "python3"
  },
  "language_info": {
   "codemirror_mode": {
    "name": "ipython",
    "version": 3
   },
   "file_extension": ".py",
   "mimetype": "text/x-python",
   "name": "python",
   "nbconvert_exporter": "python",
   "pygments_lexer": "ipython3",
   "version": "3.12.7"
  }
 },
 "nbformat": 4,
 "nbformat_minor": 5
}
