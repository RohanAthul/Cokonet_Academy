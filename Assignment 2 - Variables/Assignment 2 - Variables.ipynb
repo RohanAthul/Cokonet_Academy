{
 "cells": [
  {
   "cell_type": "markdown",
   "id": "dbf3b9aa-0d68-4b6a-984f-57a213529a4a",
   "metadata": {},
   "source": [
    "# Assignment 2 - Variables"
   ]
  },
  {
   "cell_type": "markdown",
   "id": "a3ed14f6-09e1-42a4-a06b-34d99e82e2db",
   "metadata": {},
   "source": [
    "## Examples for str variables"
   ]
  },
  {
   "cell_type": "code",
   "execution_count": 1,
   "id": "a947a9f4-c7b6-4578-8f38-de61aa087e17",
   "metadata": {},
   "outputs": [],
   "source": [
    "myName = \"Athul_Rohan\"\n",
    "myCountry = \"India\"\n",
    "myText = \"Hello_World\"\n",
    "myPlanet = \"Earth\"\n",
    "myLaptop = \"HP\"\n",
    "myAcademy = \"Cokonet\"\n",
    "myBrowser = \"Chrome\"\n",
    "myShoes = \"Black\"\n",
    "myCurtains = \"Beige\"\n",
    "myPen = \"Red\""
   ]
  },
  {
   "cell_type": "markdown",
   "id": "fe7fe8b0-1d07-49ea-9107-820b71ca9996",
   "metadata": {},
   "source": [
    "## Examples for int variables"
   ]
  },
  {
   "cell_type": "code",
   "execution_count": 2,
   "id": "da18d205-7c15-4854-bf1d-9dc086797480",
   "metadata": {},
   "outputs": [],
   "source": [
    "int_01 = 1\n",
    "int_02 = 2\n",
    "int_03 = 3\n",
    "int_04 = 4\n",
    "int_05 = 5\n",
    "int_06 = 6\n",
    "int_07 = 7\n",
    "int_08 = 8\n",
    "int_09 = 9\n",
    "int_10 = 10"
   ]
  },
  {
   "cell_type": "markdown",
   "id": "60838e91-a0a5-4433-bf46-6e89dedaa8a8",
   "metadata": {},
   "source": [
    "## Examples for float variables"
   ]
  },
  {
   "cell_type": "code",
   "execution_count": 3,
   "id": "c33b6a1b-e3cf-4e70-9323-8cd61b143dfe",
   "metadata": {},
   "outputs": [],
   "source": [
    "float_01 = 0.01\n",
    "float_02 = 0.02\n",
    "float_03 = 0.03\n",
    "float_04 = 0.04\n",
    "float_05 = 0.05\n",
    "float_06 = 0.06\n",
    "float_07 = 0.07\n",
    "float_08 = 0.08\n",
    "float_09 = 0.09\n",
    "float_10 = 0.10"
   ]
  },
  {
   "cell_type": "markdown",
   "id": "75bfabcd-a06e-4e91-9bb9-7dcfef328a4d",
   "metadata": {},
   "source": [
    "## Examples for complex number variables"
   ]
  },
  {
   "cell_type": "code",
   "execution_count": 4,
   "id": "374eda44-06ef-4334-9b4d-8238b7a730c2",
   "metadata": {},
   "outputs": [],
   "source": [
    "complexnumber_01 = complex(1,2)\n",
    "complexnumber_02 = complex(2,3)\n",
    "complexnumber_03 = complex(3,4)\n",
    "complexnumber_04 = complex(4,5)\n",
    "complexnumber_05 = complex(5,6)\n",
    "complexnumber_06 = complex(6,7)\n",
    "complexnumber_07 = complex(7,8)\n",
    "complexnumber_08 = complex(8,9)\n",
    "complexnumber_09 = complex(9,10)\n",
    "complexnumber_10 = complex(10,11)"
   ]
  },
  {
   "cell_type": "markdown",
   "id": "19a3f721-659f-4243-9043-7c6bc04ee0f3",
   "metadata": {},
   "source": [
    "## Examples for list variables"
   ]
  },
  {
   "cell_type": "code",
   "execution_count": 5,
   "id": "954f25a2-a89a-4ff9-8e69-ccd56212e8db",
   "metadata": {
    "scrolled": true
   },
   "outputs": [],
   "source": [
    "myList_01 = [\"Apples\",\"Oranges\",\"Watermelons\"]\n",
    "myList_02 = [1,2,3,4,5]\n",
    "myList_03 = {\"1\",\"2\",\"3\",\"4\",\"5\"}\n",
    "myList_04 = [\"Pen\",\"Pencil\"]\n",
    "myList_05 = [myAcademy,complexnumber_01]\n",
    "myList_06 = [myLaptop,myShoes,myBrowser]\n",
    "myList_07 = [complexnumber_01,complexnumber_02,complexnumber_03]\n",
    "myList_08 = [int_01,int_02,int_03]\n",
    "myList_09 = [\"Seven Apples\",\"Eight Oranges\"]\n",
    "myList_10 = [float_01,float_02,float_03]"
   ]
  },
  {
   "cell_type": "markdown",
   "id": "5caed70a-111f-4480-9f0f-7ebdc4748584",
   "metadata": {},
   "source": [
    "## Examples for tuple variables"
   ]
  },
  {
   "cell_type": "code",
   "execution_count": 6,
   "id": "51a3f7c3-f289-43d7-b5e2-274d8db5a1a0",
   "metadata": {},
   "outputs": [],
   "source": [
    "myTuple_01 = (\"Grapes\",\"Guavas\",\"Bananas\")\n",
    "myTuple_02 = (2,4,6,8,10)\n",
    "myTuple_03 = (1,3,5,7,9)\n",
    "myTuple_04 = (myText,myCountry,myPlanet)\n",
    "myTuple_05 = (complexnumber_04,complexnumber_05,complexnumber_06)\n",
    "myTuple_06 = (float_04,float_05,float_06,float_07,float_08)\n",
    "myTuple_07 = (int_04,int_05,int_07,int_08,int_09)\n",
    "myTuple_08 = (myTuple_01,myTuple_02,myTuple_03)\n",
    "myTuple_09 = (0.5,0.6,0.7)\n",
    "myTuple_10 = (myTuple_01,myList_01,myTuple_08,myList_08)"
   ]
  },
  {
   "cell_type": "markdown",
   "id": "2dcb38b0-f060-4973-8e13-ea5e201c2f8e",
   "metadata": {},
   "source": [
    "## Examples for Dictionary variables"
   ]
  },
  {
   "cell_type": "code",
   "execution_count": 7,
   "id": "cc6ca331-df28-4db8-8116-ae79a73db2b1",
   "metadata": {},
   "outputs": [],
   "source": [
    "myDictionary_01 = {\"a\":1,\"b\":2,\"c\":3}\n",
    "myDictionary_02 = {\"d\":4,\"e\":5,\"f\":6}\n",
    "myDictionary_03 = {\"g\":7,\"h\":8,\"i\":9}\n",
    "myDictionary_04 = {\"j\":10,\"k\":11,\"l\":12}\n",
    "myDictionary_05 = {\"m\":13,\"n\":14,\"o\":15}\n",
    "myDictionary_06 = {\"p\":16,\"q\":17,\"r\":18}\n",
    "myDictionary_07 = {\"s\":19,\"t\":20,\"u\":21,\"v\":22,\"W\":23}\n",
    "myDictionary_08 = {\"x\":24,\"y\":25,\"z\":26}\n",
    "myDictionary_09 = {\"Brand\":\"Ford\",\"Model\":\"Ecosport\",\"Year\":\"2014\",\"Colour\":\"Black\"}\n",
    "myDictionary_10 = {\"Manufacturer\":\"Apple\",\"Model\":\"Macbook Air\",\"Colour\":\"Space grey\"}"
   ]
  }
 ],
 "metadata": {
  "kernelspec": {
   "display_name": "Python 3 (ipykernel)",
   "language": "python",
   "name": "python3"
  },
  "language_info": {
   "codemirror_mode": {
    "name": "ipython",
    "version": 3
   },
   "file_extension": ".py",
   "mimetype": "text/x-python",
   "name": "python",
   "nbconvert_exporter": "python",
   "pygments_lexer": "ipython3",
   "version": "3.12.7"
  }
 },
 "nbformat": 4,
 "nbformat_minor": 5
}
