{
 "cells": [
  {
   "cell_type": "markdown",
   "id": "902a8456-f021-4a1e-8884-f9857be7de39",
   "metadata": {},
   "source": [
    "# <center> Cross Tab | Assignment 3"
   ]
  },
  {
   "cell_type": "markdown",
   "id": "24a1b2e8-30f5-4552-b363-62fc48c4e770",
   "metadata": {},
   "source": [
    "#### Loading dependencies"
   ]
  },
  {
   "cell_type": "code",
   "execution_count": 1,
   "id": "a3fb2073-06ba-401f-af31-b60ee13ab443",
   "metadata": {},
   "outputs": [],
   "source": [
    "import pandas as pd\n",
    "import numpy as np\n",
    "import warnings\n",
    "warnings.filterwarnings(\"ignore\")"
   ]
  },
  {
   "cell_type": "markdown",
   "id": "298af894-5c73-49a7-9ae3-c1c7af0ee1b2",
   "metadata": {},
   "source": [
    "#### Loading the dataset"
   ]
  },
  {
   "cell_type": "code",
   "execution_count": 2,
   "id": "adad342a-73f4-45c3-aee9-2e083b3b8a79",
   "metadata": {},
   "outputs": [],
   "source": [
    "data = pd.read_csv('./cross_tab.csv')"
   ]
  },
  {
   "cell_type": "markdown",
   "id": "4f5154d0-7415-46ea-b2cd-accbd8a215c5",
   "metadata": {},
   "source": [
    "#### Viewing the dataframe"
   ]
  },
  {
   "cell_type": "code",
   "execution_count": 3,
   "id": "2951c5be-778f-4502-93f7-1187ce29da10",
   "metadata": {},
   "outputs": [
    {
     "data": {
      "text/html": [
       "<div>\n",
       "<style scoped>\n",
       "    .dataframe tbody tr th:only-of-type {\n",
       "        vertical-align: middle;\n",
       "    }\n",
       "\n",
       "    .dataframe tbody tr th {\n",
       "        vertical-align: top;\n",
       "    }\n",
       "\n",
       "    .dataframe thead th {\n",
       "        text-align: right;\n",
       "    }\n",
       "</style>\n",
       "<table border=\"1\" class=\"dataframe\">\n",
       "  <thead>\n",
       "    <tr style=\"text-align: right;\">\n",
       "      <th></th>\n",
       "      <th>Unnamed: 0</th>\n",
       "      <th>Product</th>\n",
       "      <th>Region</th>\n",
       "      <th>Salesperson</th>\n",
       "      <th>Sales</th>\n",
       "    </tr>\n",
       "  </thead>\n",
       "  <tbody>\n",
       "    <tr>\n",
       "      <th>0</th>\n",
       "      <td>0</td>\n",
       "      <td>Product C</td>\n",
       "      <td>West</td>\n",
       "      <td>David</td>\n",
       "      <td>502</td>\n",
       "    </tr>\n",
       "    <tr>\n",
       "      <th>1</th>\n",
       "      <td>1</td>\n",
       "      <td>Product A</td>\n",
       "      <td>West</td>\n",
       "      <td>Alice</td>\n",
       "      <td>445</td>\n",
       "    </tr>\n",
       "    <tr>\n",
       "      <th>2</th>\n",
       "      <td>2</td>\n",
       "      <td>Product C</td>\n",
       "      <td>West</td>\n",
       "      <td>Charlie</td>\n",
       "      <td>610</td>\n",
       "    </tr>\n",
       "    <tr>\n",
       "      <th>3</th>\n",
       "      <td>3</td>\n",
       "      <td>Product C</td>\n",
       "      <td>East</td>\n",
       "      <td>Bob</td>\n",
       "      <td>246</td>\n",
       "    </tr>\n",
       "    <tr>\n",
       "      <th>4</th>\n",
       "      <td>4</td>\n",
       "      <td>Product A</td>\n",
       "      <td>East</td>\n",
       "      <td>Alice</td>\n",
       "      <td>247</td>\n",
       "    </tr>\n",
       "  </tbody>\n",
       "</table>\n",
       "</div>"
      ],
      "text/plain": [
       "   Unnamed: 0    Product Region Salesperson  Sales\n",
       "0           0  Product C   West       David    502\n",
       "1           1  Product A   West       Alice    445\n",
       "2           2  Product C   West     Charlie    610\n",
       "3           3  Product C   East         Bob    246\n",
       "4           4  Product A   East       Alice    247"
      ]
     },
     "execution_count": 3,
     "metadata": {},
     "output_type": "execute_result"
    }
   ],
   "source": [
    "data.head()"
   ]
  },
  {
   "cell_type": "code",
   "execution_count": 4,
   "id": "10d259aa-55ee-4140-bcf4-2825dc281236",
   "metadata": {},
   "outputs": [
    {
     "data": {
      "text/html": [
       "<div>\n",
       "<style scoped>\n",
       "    .dataframe tbody tr th:only-of-type {\n",
       "        vertical-align: middle;\n",
       "    }\n",
       "\n",
       "    .dataframe tbody tr th {\n",
       "        vertical-align: top;\n",
       "    }\n",
       "\n",
       "    .dataframe thead th {\n",
       "        text-align: right;\n",
       "    }\n",
       "</style>\n",
       "<table border=\"1\" class=\"dataframe\">\n",
       "  <thead>\n",
       "    <tr style=\"text-align: right;\">\n",
       "      <th></th>\n",
       "      <th>Unnamed: 0</th>\n",
       "      <th>Product</th>\n",
       "      <th>Region</th>\n",
       "      <th>Salesperson</th>\n",
       "      <th>Sales</th>\n",
       "    </tr>\n",
       "  </thead>\n",
       "  <tbody>\n",
       "    <tr>\n",
       "      <th>95</th>\n",
       "      <td>95</td>\n",
       "      <td>Product A</td>\n",
       "      <td>South</td>\n",
       "      <td>Charlie</td>\n",
       "      <td>662</td>\n",
       "    </tr>\n",
       "    <tr>\n",
       "      <th>96</th>\n",
       "      <td>96</td>\n",
       "      <td>Product A</td>\n",
       "      <td>East</td>\n",
       "      <td>David</td>\n",
       "      <td>537</td>\n",
       "    </tr>\n",
       "    <tr>\n",
       "      <th>97</th>\n",
       "      <td>97</td>\n",
       "      <td>Product C</td>\n",
       "      <td>West</td>\n",
       "      <td>David</td>\n",
       "      <td>875</td>\n",
       "    </tr>\n",
       "    <tr>\n",
       "      <th>98</th>\n",
       "      <td>98</td>\n",
       "      <td>Product A</td>\n",
       "      <td>South</td>\n",
       "      <td>Charlie</td>\n",
       "      <td>382</td>\n",
       "    </tr>\n",
       "    <tr>\n",
       "      <th>99</th>\n",
       "      <td>99</td>\n",
       "      <td>Product A</td>\n",
       "      <td>East</td>\n",
       "      <td>David</td>\n",
       "      <td>126</td>\n",
       "    </tr>\n",
       "  </tbody>\n",
       "</table>\n",
       "</div>"
      ],
      "text/plain": [
       "    Unnamed: 0    Product Region Salesperson  Sales\n",
       "95          95  Product A  South     Charlie    662\n",
       "96          96  Product A   East       David    537\n",
       "97          97  Product C   West       David    875\n",
       "98          98  Product A  South     Charlie    382\n",
       "99          99  Product A   East       David    126"
      ]
     },
     "execution_count": 4,
     "metadata": {},
     "output_type": "execute_result"
    }
   ],
   "source": [
    "data.tail()"
   ]
  },
  {
   "cell_type": "code",
   "execution_count": 5,
   "id": "efdc8d48-f27b-41d5-aec5-0747aa1da945",
   "metadata": {},
   "outputs": [
    {
     "data": {
      "text/html": [
       "<div>\n",
       "<style scoped>\n",
       "    .dataframe tbody tr th:only-of-type {\n",
       "        vertical-align: middle;\n",
       "    }\n",
       "\n",
       "    .dataframe tbody tr th {\n",
       "        vertical-align: top;\n",
       "    }\n",
       "\n",
       "    .dataframe thead th {\n",
       "        text-align: right;\n",
       "    }\n",
       "</style>\n",
       "<table border=\"1\" class=\"dataframe\">\n",
       "  <thead>\n",
       "    <tr style=\"text-align: right;\">\n",
       "      <th></th>\n",
       "      <th>Unnamed: 0</th>\n",
       "      <th>Product</th>\n",
       "      <th>Region</th>\n",
       "      <th>Salesperson</th>\n",
       "      <th>Sales</th>\n",
       "    </tr>\n",
       "  </thead>\n",
       "  <tbody>\n",
       "    <tr>\n",
       "      <th>68</th>\n",
       "      <td>68</td>\n",
       "      <td>Product B</td>\n",
       "      <td>East</td>\n",
       "      <td>David</td>\n",
       "      <td>819</td>\n",
       "    </tr>\n",
       "    <tr>\n",
       "      <th>52</th>\n",
       "      <td>52</td>\n",
       "      <td>Product B</td>\n",
       "      <td>East</td>\n",
       "      <td>Bob</td>\n",
       "      <td>203</td>\n",
       "    </tr>\n",
       "    <tr>\n",
       "      <th>57</th>\n",
       "      <td>57</td>\n",
       "      <td>Product A</td>\n",
       "      <td>East</td>\n",
       "      <td>David</td>\n",
       "      <td>609</td>\n",
       "    </tr>\n",
       "    <tr>\n",
       "      <th>44</th>\n",
       "      <td>44</td>\n",
       "      <td>Product A</td>\n",
       "      <td>South</td>\n",
       "      <td>Alice</td>\n",
       "      <td>153</td>\n",
       "    </tr>\n",
       "    <tr>\n",
       "      <th>45</th>\n",
       "      <td>45</td>\n",
       "      <td>Product C</td>\n",
       "      <td>East</td>\n",
       "      <td>Alice</td>\n",
       "      <td>219</td>\n",
       "    </tr>\n",
       "  </tbody>\n",
       "</table>\n",
       "</div>"
      ],
      "text/plain": [
       "    Unnamed: 0    Product Region Salesperson  Sales\n",
       "68          68  Product B   East       David    819\n",
       "52          52  Product B   East         Bob    203\n",
       "57          57  Product A   East       David    609\n",
       "44          44  Product A  South       Alice    153\n",
       "45          45  Product C   East       Alice    219"
      ]
     },
     "execution_count": 5,
     "metadata": {},
     "output_type": "execute_result"
    }
   ],
   "source": [
    "data.sample(5)"
   ]
  },
  {
   "cell_type": "code",
   "execution_count": 6,
   "id": "5d6b6934-edd3-4336-8e55-ee7c36b91932",
   "metadata": {},
   "outputs": [
    {
     "name": "stdout",
     "output_type": "stream",
     "text": [
      "<class 'pandas.core.frame.DataFrame'>\n",
      "RangeIndex: 100 entries, 0 to 99\n",
      "Data columns (total 5 columns):\n",
      " #   Column       Non-Null Count  Dtype \n",
      "---  ------       --------------  ----- \n",
      " 0   Unnamed: 0   100 non-null    int64 \n",
      " 1   Product      100 non-null    object\n",
      " 2   Region       100 non-null    object\n",
      " 3   Salesperson  100 non-null    object\n",
      " 4   Sales        100 non-null    int64 \n",
      "dtypes: int64(2), object(3)\n",
      "memory usage: 4.0+ KB\n"
     ]
    }
   ],
   "source": [
    "data.info()"
   ]
  },
  {
   "cell_type": "code",
   "execution_count": 7,
   "id": "e34466d4-06e3-40a5-89f3-4812121ecc8c",
   "metadata": {},
   "outputs": [
    {
     "data": {
      "text/html": [
       "<div>\n",
       "<style scoped>\n",
       "    .dataframe tbody tr th:only-of-type {\n",
       "        vertical-align: middle;\n",
       "    }\n",
       "\n",
       "    .dataframe tbody tr th {\n",
       "        vertical-align: top;\n",
       "    }\n",
       "\n",
       "    .dataframe thead th {\n",
       "        text-align: right;\n",
       "    }\n",
       "</style>\n",
       "<table border=\"1\" class=\"dataframe\">\n",
       "  <thead>\n",
       "    <tr style=\"text-align: right;\">\n",
       "      <th></th>\n",
       "      <th>Unnamed: 0</th>\n",
       "      <th>Sales</th>\n",
       "    </tr>\n",
       "  </thead>\n",
       "  <tbody>\n",
       "    <tr>\n",
       "      <th>count</th>\n",
       "      <td>100.000000</td>\n",
       "      <td>100.000000</td>\n",
       "    </tr>\n",
       "    <tr>\n",
       "      <th>mean</th>\n",
       "      <td>49.500000</td>\n",
       "      <td>548.170000</td>\n",
       "    </tr>\n",
       "    <tr>\n",
       "      <th>std</th>\n",
       "      <td>29.011492</td>\n",
       "      <td>271.297148</td>\n",
       "    </tr>\n",
       "    <tr>\n",
       "      <th>min</th>\n",
       "      <td>0.000000</td>\n",
       "      <td>101.000000</td>\n",
       "    </tr>\n",
       "    <tr>\n",
       "      <th>25%</th>\n",
       "      <td>24.750000</td>\n",
       "      <td>303.750000</td>\n",
       "    </tr>\n",
       "    <tr>\n",
       "      <th>50%</th>\n",
       "      <td>49.500000</td>\n",
       "      <td>529.000000</td>\n",
       "    </tr>\n",
       "    <tr>\n",
       "      <th>75%</th>\n",
       "      <td>74.250000</td>\n",
       "      <td>769.750000</td>\n",
       "    </tr>\n",
       "    <tr>\n",
       "      <th>max</th>\n",
       "      <td>99.000000</td>\n",
       "      <td>996.000000</td>\n",
       "    </tr>\n",
       "  </tbody>\n",
       "</table>\n",
       "</div>"
      ],
      "text/plain": [
       "       Unnamed: 0       Sales\n",
       "count  100.000000  100.000000\n",
       "mean    49.500000  548.170000\n",
       "std     29.011492  271.297148\n",
       "min      0.000000  101.000000\n",
       "25%     24.750000  303.750000\n",
       "50%     49.500000  529.000000\n",
       "75%     74.250000  769.750000\n",
       "max     99.000000  996.000000"
      ]
     },
     "execution_count": 7,
     "metadata": {},
     "output_type": "execute_result"
    }
   ],
   "source": [
    "data.describe()"
   ]
  },
  {
   "cell_type": "markdown",
   "id": "e9a93de8-b8d3-4ab6-9904-bfb464dae13c",
   "metadata": {},
   "source": [
    "#### Null percentage"
   ]
  },
  {
   "cell_type": "code",
   "execution_count": 8,
   "id": "bc4fe5eb-b87a-46d5-8215-4aef4e000392",
   "metadata": {},
   "outputs": [
    {
     "data": {
      "text/plain": [
       "Unnamed: 0     0.0\n",
       "Product        0.0\n",
       "Region         0.0\n",
       "Salesperson    0.0\n",
       "Sales          0.0\n",
       "dtype: float64"
      ]
     },
     "execution_count": 8,
     "metadata": {},
     "output_type": "execute_result"
    }
   ],
   "source": [
    "data.isnull().mean()*100"
   ]
  },
  {
   "cell_type": "markdown",
   "id": "5477f241-01cc-4b18-b0d8-8246620c41c6",
   "metadata": {},
   "source": [
    "#### Checking for duplicates"
   ]
  },
  {
   "cell_type": "code",
   "execution_count": 9,
   "id": "e2d86bb1-4a63-4804-8e06-dd507483d28d",
   "metadata": {},
   "outputs": [
    {
     "data": {
      "text/plain": [
       "0"
      ]
     },
     "execution_count": 9,
     "metadata": {},
     "output_type": "execute_result"
    }
   ],
   "source": [
    "data.duplicated().sum()"
   ]
  },
  {
   "cell_type": "markdown",
   "id": "d420de66-328f-4847-a4d4-1b7e63b359ba",
   "metadata": {},
   "source": [
    "#### Calling the columns"
   ]
  },
  {
   "cell_type": "code",
   "execution_count": 10,
   "id": "5262f5a8-004a-403f-9bcf-1308b18b5447",
   "metadata": {},
   "outputs": [
    {
     "data": {
      "text/plain": [
       "Index(['Unnamed: 0', 'Product', 'Region', 'Salesperson', 'Sales'], dtype='object')"
      ]
     },
     "execution_count": 10,
     "metadata": {},
     "output_type": "execute_result"
    }
   ],
   "source": [
    "data.columns"
   ]
  },
  {
   "cell_type": "code",
   "execution_count": 11,
   "id": "3400a828-a3fd-4426-8964-4cb9585e5970",
   "metadata": {},
   "outputs": [
    {
     "data": {
      "text/plain": [
       "0      0\n",
       "1      1\n",
       "2      2\n",
       "3      3\n",
       "4      4\n",
       "      ..\n",
       "95    95\n",
       "96    96\n",
       "97    97\n",
       "98    98\n",
       "99    99\n",
       "Name: Unnamed: 0, Length: 100, dtype: int64"
      ]
     },
     "execution_count": 11,
     "metadata": {},
     "output_type": "execute_result"
    }
   ],
   "source": [
    "data[\"Unnamed: 0\"]"
   ]
  },
  {
   "cell_type": "markdown",
   "id": "976a7275-7c71-4d65-a961-905c802dc318",
   "metadata": {},
   "source": [
    "#### Dropping the columns"
   ]
  },
  {
   "cell_type": "code",
   "execution_count": 12,
   "id": "193a6fdf-b413-479b-ac65-3ac096d9fcd5",
   "metadata": {},
   "outputs": [],
   "source": [
    "data.drop(columns='Unnamed: 0', inplace=True)"
   ]
  },
  {
   "cell_type": "code",
   "execution_count": 13,
   "id": "ba0c73e9-2db7-475f-bdcd-aa7a1682e8b8",
   "metadata": {},
   "outputs": [
    {
     "data": {
      "text/html": [
       "<div>\n",
       "<style scoped>\n",
       "    .dataframe tbody tr th:only-of-type {\n",
       "        vertical-align: middle;\n",
       "    }\n",
       "\n",
       "    .dataframe tbody tr th {\n",
       "        vertical-align: top;\n",
       "    }\n",
       "\n",
       "    .dataframe thead th {\n",
       "        text-align: right;\n",
       "    }\n",
       "</style>\n",
       "<table border=\"1\" class=\"dataframe\">\n",
       "  <thead>\n",
       "    <tr style=\"text-align: right;\">\n",
       "      <th></th>\n",
       "      <th>Product</th>\n",
       "      <th>Region</th>\n",
       "      <th>Salesperson</th>\n",
       "      <th>Sales</th>\n",
       "    </tr>\n",
       "  </thead>\n",
       "  <tbody>\n",
       "    <tr>\n",
       "      <th>0</th>\n",
       "      <td>Product C</td>\n",
       "      <td>West</td>\n",
       "      <td>David</td>\n",
       "      <td>502</td>\n",
       "    </tr>\n",
       "    <tr>\n",
       "      <th>1</th>\n",
       "      <td>Product A</td>\n",
       "      <td>West</td>\n",
       "      <td>Alice</td>\n",
       "      <td>445</td>\n",
       "    </tr>\n",
       "    <tr>\n",
       "      <th>2</th>\n",
       "      <td>Product C</td>\n",
       "      <td>West</td>\n",
       "      <td>Charlie</td>\n",
       "      <td>610</td>\n",
       "    </tr>\n",
       "    <tr>\n",
       "      <th>3</th>\n",
       "      <td>Product C</td>\n",
       "      <td>East</td>\n",
       "      <td>Bob</td>\n",
       "      <td>246</td>\n",
       "    </tr>\n",
       "    <tr>\n",
       "      <th>4</th>\n",
       "      <td>Product A</td>\n",
       "      <td>East</td>\n",
       "      <td>Alice</td>\n",
       "      <td>247</td>\n",
       "    </tr>\n",
       "  </tbody>\n",
       "</table>\n",
       "</div>"
      ],
      "text/plain": [
       "     Product Region Salesperson  Sales\n",
       "0  Product C   West       David    502\n",
       "1  Product A   West       Alice    445\n",
       "2  Product C   West     Charlie    610\n",
       "3  Product C   East         Bob    246\n",
       "4  Product A   East       Alice    247"
      ]
     },
     "execution_count": 13,
     "metadata": {},
     "output_type": "execute_result"
    }
   ],
   "source": [
    "data.head()"
   ]
  },
  {
   "cell_type": "markdown",
   "id": "b07e5872-c803-4a99-ad10-a6c8fb1ae545",
   "metadata": {},
   "source": [
    "#### Replace"
   ]
  },
  {
   "cell_type": "code",
   "execution_count": 14,
   "id": "a25d2bfa-1c22-4c00-9386-c811e0e1efe3",
   "metadata": {
    "scrolled": true
   },
   "outputs": [],
   "source": [
    "data.Product.replace({\"Product A\" :'A',\"Product B\":'B',\"Product C\":'C'},inplace=True)"
   ]
  },
  {
   "cell_type": "markdown",
   "id": "a306c0e7-f290-4dca-a2f9-45d63be3f19b",
   "metadata": {},
   "source": [
    "## Questions | CROSSTAB ASSIGNMENT"
   ]
  },
  {
   "cell_type": "markdown",
   "id": "94cd8d4d-0386-4d5b-b879-f9982b116066",
   "metadata": {},
   "source": [
    "1. Calculate the total sales for each combination of Product and Region\n",
    "2. Find the average sales per salesperson for each product.\n",
    "3. Count the number of sales transactions for each region and product. \n",
    "4. Determine the maximum sales value for each region and salesperson combination.\n",
    "5. Create a cross-tab that shows both the total sales and the average sales for each product and region combination."
   ]
  },
  {
   "cell_type": "markdown",
   "id": "1a997e95-107d-45f1-9ba8-35a122139ec0",
   "metadata": {},
   "source": [
    "## Solutions"
   ]
  },
  {
   "cell_type": "markdown",
   "id": "3016c06d-b2af-4d56-9655-7482016d89da",
   "metadata": {},
   "source": [
    "#### Answer 1"
   ]
  },
  {
   "cell_type": "code",
   "execution_count": 15,
   "id": "33d6160f-7b4e-40af-89e2-2cdf8d5eea8b",
   "metadata": {},
   "outputs": [
    {
     "data": {
      "text/html": [
       "<div>\n",
       "<style scoped>\n",
       "    .dataframe tbody tr th:only-of-type {\n",
       "        vertical-align: middle;\n",
       "    }\n",
       "\n",
       "    .dataframe tbody tr th {\n",
       "        vertical-align: top;\n",
       "    }\n",
       "\n",
       "    .dataframe thead th {\n",
       "        text-align: right;\n",
       "    }\n",
       "</style>\n",
       "<table border=\"1\" class=\"dataframe\">\n",
       "  <thead>\n",
       "    <tr style=\"text-align: right;\">\n",
       "      <th>Product</th>\n",
       "      <th>A</th>\n",
       "      <th>B</th>\n",
       "      <th>C</th>\n",
       "    </tr>\n",
       "    <tr>\n",
       "      <th>Region</th>\n",
       "      <th></th>\n",
       "      <th></th>\n",
       "      <th></th>\n",
       "    </tr>\n",
       "  </thead>\n",
       "  <tbody>\n",
       "    <tr>\n",
       "      <th>East</th>\n",
       "      <td>5434</td>\n",
       "      <td>7005</td>\n",
       "      <td>5889</td>\n",
       "    </tr>\n",
       "    <tr>\n",
       "      <th>North</th>\n",
       "      <td>4296</td>\n",
       "      <td>4575</td>\n",
       "      <td>4151</td>\n",
       "    </tr>\n",
       "    <tr>\n",
       "      <th>South</th>\n",
       "      <td>4350</td>\n",
       "      <td>3425</td>\n",
       "      <td>1135</td>\n",
       "    </tr>\n",
       "    <tr>\n",
       "      <th>West</th>\n",
       "      <td>4769</td>\n",
       "      <td>5201</td>\n",
       "      <td>4587</td>\n",
       "    </tr>\n",
       "  </tbody>\n",
       "</table>\n",
       "</div>"
      ],
      "text/plain": [
       "Product     A     B     C\n",
       "Region                   \n",
       "East     5434  7005  5889\n",
       "North    4296  4575  4151\n",
       "South    4350  3425  1135\n",
       "West     4769  5201  4587"
      ]
     },
     "execution_count": 15,
     "metadata": {},
     "output_type": "execute_result"
    }
   ],
   "source": [
    "Total_sales = pd.crosstab(index=data['Region'], columns=data['Product'], values=data['Sales'], aggfunc='sum')\n",
    "Total_sales"
   ]
  },
  {
   "cell_type": "markdown",
   "id": "7701baf7-9e7e-486d-881d-2d3701630fd5",
   "metadata": {},
   "source": [
    "#### Answer 2"
   ]
  },
  {
   "cell_type": "code",
   "execution_count": 16,
   "id": "9fb2d941-8b39-4fd3-8677-c546738aecfc",
   "metadata": {},
   "outputs": [
    {
     "data": {
      "text/plain": [
       "4"
      ]
     },
     "execution_count": 16,
     "metadata": {},
     "output_type": "execute_result"
    }
   ],
   "source": [
    "data['Salesperson'].nunique()"
   ]
  },
  {
   "cell_type": "code",
   "execution_count": 17,
   "id": "4bda07b3-25c1-4ce0-b3b8-9136137e7de9",
   "metadata": {},
   "outputs": [
    {
     "data": {
      "text/html": [
       "<div>\n",
       "<style scoped>\n",
       "    .dataframe tbody tr th:only-of-type {\n",
       "        vertical-align: middle;\n",
       "    }\n",
       "\n",
       "    .dataframe tbody tr th {\n",
       "        vertical-align: top;\n",
       "    }\n",
       "\n",
       "    .dataframe thead th {\n",
       "        text-align: right;\n",
       "    }\n",
       "</style>\n",
       "<table border=\"1\" class=\"dataframe\">\n",
       "  <thead>\n",
       "    <tr style=\"text-align: right;\">\n",
       "      <th>Product</th>\n",
       "      <th>A</th>\n",
       "      <th>B</th>\n",
       "      <th>C</th>\n",
       "    </tr>\n",
       "    <tr>\n",
       "      <th>Salesperson</th>\n",
       "      <th></th>\n",
       "      <th></th>\n",
       "      <th></th>\n",
       "    </tr>\n",
       "  </thead>\n",
       "  <tbody>\n",
       "    <tr>\n",
       "      <th>Alice</th>\n",
       "      <td>509.888889</td>\n",
       "      <td>614.000000</td>\n",
       "      <td>419.666667</td>\n",
       "    </tr>\n",
       "    <tr>\n",
       "      <th>Bob</th>\n",
       "      <td>447.000000</td>\n",
       "      <td>513.333333</td>\n",
       "      <td>587.666667</td>\n",
       "    </tr>\n",
       "    <tr>\n",
       "      <th>Charlie</th>\n",
       "      <td>658.714286</td>\n",
       "      <td>604.272727</td>\n",
       "      <td>401.400000</td>\n",
       "    </tr>\n",
       "    <tr>\n",
       "      <th>David</th>\n",
       "      <td>652.000000</td>\n",
       "      <td>487.571429</td>\n",
       "      <td>586.545455</td>\n",
       "    </tr>\n",
       "  </tbody>\n",
       "</table>\n",
       "</div>"
      ],
      "text/plain": [
       "Product               A           B           C\n",
       "Salesperson                                    \n",
       "Alice        509.888889  614.000000  419.666667\n",
       "Bob          447.000000  513.333333  587.666667\n",
       "Charlie      658.714286  604.272727  401.400000\n",
       "David        652.000000  487.571429  586.545455"
      ]
     },
     "execution_count": 17,
     "metadata": {},
     "output_type": "execute_result"
    }
   ],
   "source": [
    "Average_sales_per_salesperson = pd.crosstab(index=data['Salesperson'], columns=data['Product'], values=data['Sales'], aggfunc='mean')\n",
    "Average_sales_per_salesperson"
   ]
  },
  {
   "cell_type": "markdown",
   "id": "b7ba2e38-10fb-4e79-8ae0-fc2e5b1aca03",
   "metadata": {},
   "source": [
    "#### Answer 3"
   ]
  },
  {
   "cell_type": "code",
   "execution_count": 18,
   "id": "5caacb2d-2a2c-4b7c-a539-4a0c5129d7db",
   "metadata": {},
   "outputs": [
    {
     "data": {
      "text/html": [
       "<div>\n",
       "<style scoped>\n",
       "    .dataframe tbody tr th:only-of-type {\n",
       "        vertical-align: middle;\n",
       "    }\n",
       "\n",
       "    .dataframe tbody tr th {\n",
       "        vertical-align: top;\n",
       "    }\n",
       "\n",
       "    .dataframe thead th {\n",
       "        text-align: right;\n",
       "    }\n",
       "</style>\n",
       "<table border=\"1\" class=\"dataframe\">\n",
       "  <thead>\n",
       "    <tr style=\"text-align: right;\">\n",
       "      <th>Product</th>\n",
       "      <th>A</th>\n",
       "      <th>B</th>\n",
       "      <th>C</th>\n",
       "    </tr>\n",
       "    <tr>\n",
       "      <th>Region</th>\n",
       "      <th></th>\n",
       "      <th></th>\n",
       "      <th></th>\n",
       "    </tr>\n",
       "  </thead>\n",
       "  <tbody>\n",
       "    <tr>\n",
       "      <th>East</th>\n",
       "      <td>9</td>\n",
       "      <td>13</td>\n",
       "      <td>12</td>\n",
       "    </tr>\n",
       "    <tr>\n",
       "      <th>North</th>\n",
       "      <td>6</td>\n",
       "      <td>8</td>\n",
       "      <td>8</td>\n",
       "    </tr>\n",
       "    <tr>\n",
       "      <th>South</th>\n",
       "      <td>9</td>\n",
       "      <td>7</td>\n",
       "      <td>3</td>\n",
       "    </tr>\n",
       "    <tr>\n",
       "      <th>West</th>\n",
       "      <td>9</td>\n",
       "      <td>8</td>\n",
       "      <td>8</td>\n",
       "    </tr>\n",
       "  </tbody>\n",
       "</table>\n",
       "</div>"
      ],
      "text/plain": [
       "Product  A   B   C\n",
       "Region            \n",
       "East     9  13  12\n",
       "North    6   8   8\n",
       "South    9   7   3\n",
       "West     9   8   8"
      ]
     },
     "execution_count": 18,
     "metadata": {},
     "output_type": "execute_result"
    }
   ],
   "source": [
    "Sales_transactions = pd.crosstab(index=data['Region'], columns=data['Product'], values=data['Sales'], aggfunc='count')\n",
    "Sales_transactions"
   ]
  },
  {
   "cell_type": "markdown",
   "id": "2697b1ec-e571-4439-af03-679c81ecf410",
   "metadata": {},
   "source": [
    "#### Answer 4"
   ]
  },
  {
   "cell_type": "code",
   "execution_count": 19,
   "id": "40e78964-78d1-4d27-884e-11cc3c80ec2e",
   "metadata": {},
   "outputs": [
    {
     "data": {
      "text/html": [
       "<div>\n",
       "<style scoped>\n",
       "    .dataframe tbody tr th:only-of-type {\n",
       "        vertical-align: middle;\n",
       "    }\n",
       "\n",
       "    .dataframe tbody tr th {\n",
       "        vertical-align: top;\n",
       "    }\n",
       "\n",
       "    .dataframe thead th {\n",
       "        text-align: right;\n",
       "    }\n",
       "</style>\n",
       "<table border=\"1\" class=\"dataframe\">\n",
       "  <thead>\n",
       "    <tr style=\"text-align: right;\">\n",
       "      <th>Salesperson</th>\n",
       "      <th>Alice</th>\n",
       "      <th>Bob</th>\n",
       "      <th>Charlie</th>\n",
       "      <th>David</th>\n",
       "    </tr>\n",
       "    <tr>\n",
       "      <th>Region</th>\n",
       "      <th></th>\n",
       "      <th></th>\n",
       "      <th></th>\n",
       "      <th></th>\n",
       "    </tr>\n",
       "  </thead>\n",
       "  <tbody>\n",
       "    <tr>\n",
       "      <th>East</th>\n",
       "      <td>963</td>\n",
       "      <td>995</td>\n",
       "      <td>980</td>\n",
       "      <td>915</td>\n",
       "    </tr>\n",
       "    <tr>\n",
       "      <th>North</th>\n",
       "      <td>977</td>\n",
       "      <td>960</td>\n",
       "      <td>787</td>\n",
       "      <td>982</td>\n",
       "    </tr>\n",
       "    <tr>\n",
       "      <th>South</th>\n",
       "      <td>474</td>\n",
       "      <td>739</td>\n",
       "      <td>740</td>\n",
       "      <td>951</td>\n",
       "    </tr>\n",
       "    <tr>\n",
       "      <th>West</th>\n",
       "      <td>863</td>\n",
       "      <td>996</td>\n",
       "      <td>919</td>\n",
       "      <td>875</td>\n",
       "    </tr>\n",
       "  </tbody>\n",
       "</table>\n",
       "</div>"
      ],
      "text/plain": [
       "Salesperson  Alice  Bob  Charlie  David\n",
       "Region                                 \n",
       "East           963  995      980    915\n",
       "North          977  960      787    982\n",
       "South          474  739      740    951\n",
       "West           863  996      919    875"
      ]
     },
     "execution_count": 19,
     "metadata": {},
     "output_type": "execute_result"
    }
   ],
   "source": [
    "Max_sales = pd.crosstab(index=data['Region'], columns=data['Salesperson'], values=data['Sales'], aggfunc='max')\n",
    "Max_sales"
   ]
  },
  {
   "cell_type": "markdown",
   "id": "4d7cf359-2c06-4b68-8b43-bd1593d5b4b9",
   "metadata": {},
   "source": [
    "#### Answer 5"
   ]
  },
  {
   "cell_type": "code",
   "execution_count": 20,
   "id": "3f38e06f-8a6e-4b7f-92c6-fb6151aa28b0",
   "metadata": {},
   "outputs": [
    {
     "data": {
      "text/html": [
       "<div>\n",
       "<style scoped>\n",
       "    .dataframe tbody tr th:only-of-type {\n",
       "        vertical-align: middle;\n",
       "    }\n",
       "\n",
       "    .dataframe tbody tr th {\n",
       "        vertical-align: top;\n",
       "    }\n",
       "\n",
       "    .dataframe thead tr th {\n",
       "        text-align: left;\n",
       "    }\n",
       "\n",
       "    .dataframe thead tr:last-of-type th {\n",
       "        text-align: right;\n",
       "    }\n",
       "</style>\n",
       "<table border=\"1\" class=\"dataframe\">\n",
       "  <thead>\n",
       "    <tr>\n",
       "      <th></th>\n",
       "      <th colspan=\"4\" halign=\"left\">sum</th>\n",
       "      <th colspan=\"4\" halign=\"left\">mean</th>\n",
       "    </tr>\n",
       "    <tr>\n",
       "      <th>Region</th>\n",
       "      <th>East</th>\n",
       "      <th>North</th>\n",
       "      <th>South</th>\n",
       "      <th>West</th>\n",
       "      <th>East</th>\n",
       "      <th>North</th>\n",
       "      <th>South</th>\n",
       "      <th>West</th>\n",
       "    </tr>\n",
       "    <tr>\n",
       "      <th>Product</th>\n",
       "      <th></th>\n",
       "      <th></th>\n",
       "      <th></th>\n",
       "      <th></th>\n",
       "      <th></th>\n",
       "      <th></th>\n",
       "      <th></th>\n",
       "      <th></th>\n",
       "    </tr>\n",
       "  </thead>\n",
       "  <tbody>\n",
       "    <tr>\n",
       "      <th>A</th>\n",
       "      <td>5434</td>\n",
       "      <td>4296</td>\n",
       "      <td>4350</td>\n",
       "      <td>4769</td>\n",
       "      <td>603.777778</td>\n",
       "      <td>716.000</td>\n",
       "      <td>483.333333</td>\n",
       "      <td>529.888889</td>\n",
       "    </tr>\n",
       "    <tr>\n",
       "      <th>B</th>\n",
       "      <td>7005</td>\n",
       "      <td>4575</td>\n",
       "      <td>3425</td>\n",
       "      <td>5201</td>\n",
       "      <td>538.846154</td>\n",
       "      <td>571.875</td>\n",
       "      <td>489.285714</td>\n",
       "      <td>650.125000</td>\n",
       "    </tr>\n",
       "    <tr>\n",
       "      <th>C</th>\n",
       "      <td>5889</td>\n",
       "      <td>4151</td>\n",
       "      <td>1135</td>\n",
       "      <td>4587</td>\n",
       "      <td>490.750000</td>\n",
       "      <td>518.875</td>\n",
       "      <td>378.333333</td>\n",
       "      <td>573.375000</td>\n",
       "    </tr>\n",
       "  </tbody>\n",
       "</table>\n",
       "</div>"
      ],
      "text/plain": [
       "          sum                          mean                                 \n",
       "Region   East North South  West        East    North       South        West\n",
       "Product                                                                     \n",
       "A        5434  4296  4350  4769  603.777778  716.000  483.333333  529.888889\n",
       "B        7005  4575  3425  5201  538.846154  571.875  489.285714  650.125000\n",
       "C        5889  4151  1135  4587  490.750000  518.875  378.333333  573.375000"
      ]
     },
     "execution_count": 20,
     "metadata": {},
     "output_type": "execute_result"
    }
   ],
   "source": [
    "Total_and_Average_sales = pd.crosstab(data['Product'], data['Region'], values=data['Sales'], aggfunc=['sum','mean'])\n",
    "Total_and_Average_sales"
   ]
  }
 ],
 "metadata": {
  "kernelspec": {
   "display_name": "Python 3 (ipykernel)",
   "language": "python",
   "name": "python3"
  },
  "language_info": {
   "codemirror_mode": {
    "name": "ipython",
    "version": 3
   },
   "file_extension": ".py",
   "mimetype": "text/x-python",
   "name": "python",
   "nbconvert_exporter": "python",
   "pygments_lexer": "ipython3",
   "version": "3.12.7"
  }
 },
 "nbformat": 4,
 "nbformat_minor": 5
}
